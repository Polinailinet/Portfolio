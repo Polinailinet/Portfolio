{
 "cells": [
  {
   "cell_type": "markdown",
   "id": "65c193dc",
   "metadata": {},
   "source": [
    "# Принятие решений в бизнесе на основе данных"
   ]
  },
  {
   "cell_type": "markdown",
   "id": "413b5c2f",
   "metadata": {},
   "source": [
    "## Общая информация"
   ]
  },
  {
   "cell_type": "markdown",
   "id": "58d9c2ac",
   "metadata": {},
   "source": [
    "**Цель** \n",
    "\n",
    "\n",
    "Вместе с отделом маркетинга из подготовленного списка гипотез выбрать те, что помогут увеличить выручку.\n",
    "\n",
    "**Задачи**: \n",
    "- приоритизировать гипотезы,\n",
    "- запустить A/B-тест,\n",
    "- проанализировать результаты.\n",
    "- сделать выводы\n",
    "- принять решение об остановке/продолжению эксперимента"
   ]
  },
  {
   "cell_type": "markdown",
   "id": "62af8148",
   "metadata": {},
   "source": [
    "## Чтение данных"
   ]
  },
  {
   "cell_type": "code",
   "execution_count": 1,
   "id": "ce493257",
   "metadata": {},
   "outputs": [],
   "source": [
    "import pandas as pd\n",
    "import numpy as np\n",
    "\n",
    "import plotly.express as px\n",
    "import plotly.graph_objs as go\n",
    "from plotly.subplots import make_subplots\n",
    "\n",
    "from scipy import stats\n",
    "\n",
    "import warnings\n",
    "warnings.filterwarnings(\"ignore\") \n",
    "\n",
    "import datetime as dt\n",
    "import matplotlib.pyplot as plt\n",
    "from pandas.plotting import register_matplotlib_converters\n",
    "import warnings\n",
    "\n",
    "import plotly.io as pio\n",
    "pio.renderers.default='notebook'\n",
    "\n",
    "import matplotlib.pyplot as plt\n",
    "\n",
    "pd.set_option(\"max_colwidth\", 200) # ширина окна, для чтения гипотез"
   ]
  },
  {
   "cell_type": "code",
   "execution_count": 2,
   "id": "b79ff6a5",
   "metadata": {},
   "outputs": [],
   "source": [
    "try:\n",
    "    hypothesis = pd.read_csv('/datasets/hypothesis.csv')\n",
    "    orders = pd.read_csv('/datasets/orders.csv')\n",
    "    visitors = pd.read_csv('/datasets/visitors.csv')\n",
    "    \n",
    "except:\n",
    "    hypothesis = pd.read_csv('hypothesis.csv')\n",
    "    orders = pd.read_csv('orders.csv',parse_dates=['date'])\n",
    "    visitors = pd.read_csv('visitors.csv', parse_dates=['date'])"
   ]
  },
  {
   "cell_type": "markdown",
   "id": "7bef5a3d",
   "metadata": {},
   "source": [
    "## Изучение и подготовка данных"
   ]
  },
  {
   "cell_type": "markdown",
   "id": "77ef05b4",
   "metadata": {},
   "source": [
    "### Описание данных\n",
    "\n",
    "`hypothesis.csv`\n",
    "\n",
    "- _Hypothesis_ — краткое описание гипотезы;\n",
    "- _Reach_ — охват пользователей по 10-балльной шкале;\n",
    "- _Impact_ — влияние на пользователей по 10-балльной шкале;\n",
    "- _Confidence_ — уверенность в гипотезе по 10-балльной шкале;\n",
    "- _Efforts_ — затраты ресурсов на проверку гипотезы по 10-балльной шкале. Чем больше значение Efforts, тем дороже проверка гипотезы.\n",
    "\n",
    "`orders.csv`\n",
    "\n",
    "- _transactionId_ — идентификатор заказа;\n",
    "- _visitorId_ — идентификатор пользователя, совершившего заказ;\n",
    "- _date_ — дата, когда был совершён заказ;\n",
    "- _revenue_ — выручка заказа;\n",
    "- _group_ — группа A/B-теста, в которую попал заказ.\n",
    "\n",
    "`visitors.csv`\n",
    "\n",
    "- _date_ — дата;\n",
    "- _group_ — группа A/B-теста;\n",
    "- _visitors_ — количество пользователей в указанную дату в указанной группе A/B-теста"
   ]
  },
  {
   "cell_type": "code",
   "execution_count": 3,
   "id": "415a0b69",
   "metadata": {},
   "outputs": [
    {
     "data": {
      "text/html": [
       "<div>\n",
       "<style scoped>\n",
       "    .dataframe tbody tr th:only-of-type {\n",
       "        vertical-align: middle;\n",
       "    }\n",
       "\n",
       "    .dataframe tbody tr th {\n",
       "        vertical-align: top;\n",
       "    }\n",
       "\n",
       "    .dataframe thead th {\n",
       "        text-align: right;\n",
       "    }\n",
       "</style>\n",
       "<table border=\"1\" class=\"dataframe\">\n",
       "  <thead>\n",
       "    <tr style=\"text-align: right;\">\n",
       "      <th></th>\n",
       "      <th>Hypothesis</th>\n",
       "      <th>Reach</th>\n",
       "      <th>Impact</th>\n",
       "      <th>Confidence</th>\n",
       "      <th>Efforts</th>\n",
       "    </tr>\n",
       "  </thead>\n",
       "  <tbody>\n",
       "    <tr>\n",
       "      <th>0</th>\n",
       "      <td>Добавить два новых канала привлечения трафика, что позволит привлекать на 30% больше пользователей</td>\n",
       "      <td>3</td>\n",
       "      <td>10</td>\n",
       "      <td>8</td>\n",
       "      <td>6</td>\n",
       "    </tr>\n",
       "    <tr>\n",
       "      <th>1</th>\n",
       "      <td>Запустить собственную службу доставки, что сократит срок доставки заказов</td>\n",
       "      <td>2</td>\n",
       "      <td>5</td>\n",
       "      <td>4</td>\n",
       "      <td>10</td>\n",
       "    </tr>\n",
       "    <tr>\n",
       "      <th>2</th>\n",
       "      <td>Добавить блоки рекомендаций товаров на сайт интернет магазина, чтобы повысить конверсию и средний чек заказа</td>\n",
       "      <td>8</td>\n",
       "      <td>3</td>\n",
       "      <td>7</td>\n",
       "      <td>3</td>\n",
       "    </tr>\n",
       "    <tr>\n",
       "      <th>3</th>\n",
       "      <td>Изменить структура категорий, что увеличит конверсию, т.к. пользователи быстрее найдут нужный товар</td>\n",
       "      <td>8</td>\n",
       "      <td>3</td>\n",
       "      <td>3</td>\n",
       "      <td>8</td>\n",
       "    </tr>\n",
       "    <tr>\n",
       "      <th>4</th>\n",
       "      <td>Изменить цвет фона главной страницы, чтобы увеличить вовлеченность пользователей</td>\n",
       "      <td>3</td>\n",
       "      <td>1</td>\n",
       "      <td>1</td>\n",
       "      <td>1</td>\n",
       "    </tr>\n",
       "  </tbody>\n",
       "</table>\n",
       "</div>"
      ],
      "text/plain": [
       "                                                                                                     Hypothesis  \\\n",
       "0            Добавить два новых канала привлечения трафика, что позволит привлекать на 30% больше пользователей   \n",
       "1                                     Запустить собственную службу доставки, что сократит срок доставки заказов   \n",
       "2  Добавить блоки рекомендаций товаров на сайт интернет магазина, чтобы повысить конверсию и средний чек заказа   \n",
       "3           Изменить структура категорий, что увеличит конверсию, т.к. пользователи быстрее найдут нужный товар   \n",
       "4                              Изменить цвет фона главной страницы, чтобы увеличить вовлеченность пользователей   \n",
       "\n",
       "   Reach  Impact  Confidence  Efforts  \n",
       "0      3      10           8        6  \n",
       "1      2       5           4       10  \n",
       "2      8       3           7        3  \n",
       "3      8       3           3        8  \n",
       "4      3       1           1        1  "
      ]
     },
     "execution_count": 3,
     "metadata": {},
     "output_type": "execute_result"
    }
   ],
   "source": [
    "hypothesis.head()"
   ]
  },
  {
   "cell_type": "code",
   "execution_count": 4,
   "id": "9c54761e",
   "metadata": {},
   "outputs": [
    {
     "data": {
      "text/html": [
       "<div>\n",
       "<style scoped>\n",
       "    .dataframe tbody tr th:only-of-type {\n",
       "        vertical-align: middle;\n",
       "    }\n",
       "\n",
       "    .dataframe tbody tr th {\n",
       "        vertical-align: top;\n",
       "    }\n",
       "\n",
       "    .dataframe thead th {\n",
       "        text-align: right;\n",
       "    }\n",
       "</style>\n",
       "<table border=\"1\" class=\"dataframe\">\n",
       "  <thead>\n",
       "    <tr style=\"text-align: right;\">\n",
       "      <th></th>\n",
       "      <th>transactionId</th>\n",
       "      <th>visitorId</th>\n",
       "      <th>date</th>\n",
       "      <th>revenue</th>\n",
       "      <th>group</th>\n",
       "    </tr>\n",
       "  </thead>\n",
       "  <tbody>\n",
       "    <tr>\n",
       "      <th>0</th>\n",
       "      <td>3667963787</td>\n",
       "      <td>3312258926</td>\n",
       "      <td>2019-08-15</td>\n",
       "      <td>1650</td>\n",
       "      <td>B</td>\n",
       "    </tr>\n",
       "    <tr>\n",
       "      <th>1</th>\n",
       "      <td>2804400009</td>\n",
       "      <td>3642806036</td>\n",
       "      <td>2019-08-15</td>\n",
       "      <td>730</td>\n",
       "      <td>B</td>\n",
       "    </tr>\n",
       "    <tr>\n",
       "      <th>2</th>\n",
       "      <td>2961555356</td>\n",
       "      <td>4069496402</td>\n",
       "      <td>2019-08-15</td>\n",
       "      <td>400</td>\n",
       "      <td>A</td>\n",
       "    </tr>\n",
       "    <tr>\n",
       "      <th>3</th>\n",
       "      <td>3797467345</td>\n",
       "      <td>1196621759</td>\n",
       "      <td>2019-08-15</td>\n",
       "      <td>9759</td>\n",
       "      <td>B</td>\n",
       "    </tr>\n",
       "    <tr>\n",
       "      <th>4</th>\n",
       "      <td>2282983706</td>\n",
       "      <td>2322279887</td>\n",
       "      <td>2019-08-15</td>\n",
       "      <td>2308</td>\n",
       "      <td>B</td>\n",
       "    </tr>\n",
       "  </tbody>\n",
       "</table>\n",
       "</div>"
      ],
      "text/plain": [
       "   transactionId   visitorId       date  revenue group\n",
       "0     3667963787  3312258926 2019-08-15     1650     B\n",
       "1     2804400009  3642806036 2019-08-15      730     B\n",
       "2     2961555356  4069496402 2019-08-15      400     A\n",
       "3     3797467345  1196621759 2019-08-15     9759     B\n",
       "4     2282983706  2322279887 2019-08-15     2308     B"
      ]
     },
     "execution_count": 4,
     "metadata": {},
     "output_type": "execute_result"
    }
   ],
   "source": [
    "orders.head()"
   ]
  },
  {
   "cell_type": "code",
   "execution_count": 5,
   "id": "6b994446",
   "metadata": {},
   "outputs": [
    {
     "data": {
      "text/html": [
       "<div>\n",
       "<style scoped>\n",
       "    .dataframe tbody tr th:only-of-type {\n",
       "        vertical-align: middle;\n",
       "    }\n",
       "\n",
       "    .dataframe tbody tr th {\n",
       "        vertical-align: top;\n",
       "    }\n",
       "\n",
       "    .dataframe thead th {\n",
       "        text-align: right;\n",
       "    }\n",
       "</style>\n",
       "<table border=\"1\" class=\"dataframe\">\n",
       "  <thead>\n",
       "    <tr style=\"text-align: right;\">\n",
       "      <th></th>\n",
       "      <th>date</th>\n",
       "      <th>group</th>\n",
       "      <th>visitors</th>\n",
       "    </tr>\n",
       "  </thead>\n",
       "  <tbody>\n",
       "    <tr>\n",
       "      <th>0</th>\n",
       "      <td>2019-08-01</td>\n",
       "      <td>A</td>\n",
       "      <td>719</td>\n",
       "    </tr>\n",
       "    <tr>\n",
       "      <th>1</th>\n",
       "      <td>2019-08-02</td>\n",
       "      <td>A</td>\n",
       "      <td>619</td>\n",
       "    </tr>\n",
       "    <tr>\n",
       "      <th>2</th>\n",
       "      <td>2019-08-03</td>\n",
       "      <td>A</td>\n",
       "      <td>507</td>\n",
       "    </tr>\n",
       "    <tr>\n",
       "      <th>3</th>\n",
       "      <td>2019-08-04</td>\n",
       "      <td>A</td>\n",
       "      <td>717</td>\n",
       "    </tr>\n",
       "    <tr>\n",
       "      <th>4</th>\n",
       "      <td>2019-08-05</td>\n",
       "      <td>A</td>\n",
       "      <td>756</td>\n",
       "    </tr>\n",
       "  </tbody>\n",
       "</table>\n",
       "</div>"
      ],
      "text/plain": [
       "        date group  visitors\n",
       "0 2019-08-01     A       719\n",
       "1 2019-08-02     A       619\n",
       "2 2019-08-03     A       507\n",
       "3 2019-08-04     A       717\n",
       "4 2019-08-05     A       756"
      ]
     },
     "execution_count": 5,
     "metadata": {},
     "output_type": "execute_result"
    }
   ],
   "source": [
    "visitors.head()"
   ]
  },
  {
   "cell_type": "markdown",
   "id": "2bc0e65b",
   "metadata": {},
   "source": [
    "## Часть 1. Приоритизация гипотез."
   ]
  },
  {
   "cell_type": "markdown",
   "id": "33ce45c7",
   "metadata": {},
   "source": [
    "### Задачи\n",
    "\n",
    "В файле `hypothesis.csv` 9 гипотез по увеличению выручки интернет-магазина с указанными параметрами Reach, Impact, Confidence, Effort.\n",
    "\n",
    "- Примените фреймворк `ICE` для приоритизации гипотез. Отсортируйте их по убыванию приоритета.\n",
    "- Примените фреймворк `RICE` для приоритизации гипотез. Отсортируйте их по убыванию приоритета.\n",
    "- Укажите, как изменилась приоритизация гипотез при применении RICE вместо ICE. Объясните, почему так произошло."
   ]
  },
  {
   "cell_type": "code",
   "execution_count": 6,
   "id": "f8d47636",
   "metadata": {},
   "outputs": [
    {
     "data": {
      "text/html": [
       "<div>\n",
       "<style scoped>\n",
       "    .dataframe tbody tr th:only-of-type {\n",
       "        vertical-align: middle;\n",
       "    }\n",
       "\n",
       "    .dataframe tbody tr th {\n",
       "        vertical-align: top;\n",
       "    }\n",
       "\n",
       "    .dataframe thead th {\n",
       "        text-align: right;\n",
       "    }\n",
       "</style>\n",
       "<table border=\"1\" class=\"dataframe\">\n",
       "  <thead>\n",
       "    <tr style=\"text-align: right;\">\n",
       "      <th></th>\n",
       "      <th>Hypothesis</th>\n",
       "      <th>ICE</th>\n",
       "    </tr>\n",
       "  </thead>\n",
       "  <tbody>\n",
       "    <tr>\n",
       "      <th>8</th>\n",
       "      <td>Запустить акцию, дающую скидку на товар в день рождения</td>\n",
       "      <td>16.20</td>\n",
       "    </tr>\n",
       "    <tr>\n",
       "      <th>0</th>\n",
       "      <td>Добавить два новых канала привлечения трафика, что позволит привлекать на 30% больше пользователей</td>\n",
       "      <td>13.33</td>\n",
       "    </tr>\n",
       "    <tr>\n",
       "      <th>7</th>\n",
       "      <td>Добавить форму подписки на все основные страницы, чтобы собрать базу клиентов для email-рассылок</td>\n",
       "      <td>11.20</td>\n",
       "    </tr>\n",
       "    <tr>\n",
       "      <th>6</th>\n",
       "      <td>Показать на главной странице баннеры с актуальными акциями и распродажами, чтобы увеличить конверсию</td>\n",
       "      <td>8.00</td>\n",
       "    </tr>\n",
       "    <tr>\n",
       "      <th>2</th>\n",
       "      <td>Добавить блоки рекомендаций товаров на сайт интернет магазина, чтобы повысить конверсию и средний чек заказа</td>\n",
       "      <td>7.00</td>\n",
       "    </tr>\n",
       "    <tr>\n",
       "      <th>1</th>\n",
       "      <td>Запустить собственную службу доставки, что сократит срок доставки заказов</td>\n",
       "      <td>2.00</td>\n",
       "    </tr>\n",
       "    <tr>\n",
       "      <th>5</th>\n",
       "      <td>Добавить страницу отзывов клиентов о магазине, что позволит увеличить количество заказов</td>\n",
       "      <td>1.33</td>\n",
       "    </tr>\n",
       "    <tr>\n",
       "      <th>3</th>\n",
       "      <td>Изменить структура категорий, что увеличит конверсию, т.к. пользователи быстрее найдут нужный товар</td>\n",
       "      <td>1.12</td>\n",
       "    </tr>\n",
       "    <tr>\n",
       "      <th>4</th>\n",
       "      <td>Изменить цвет фона главной страницы, чтобы увеличить вовлеченность пользователей</td>\n",
       "      <td>1.00</td>\n",
       "    </tr>\n",
       "  </tbody>\n",
       "</table>\n",
       "</div>"
      ],
      "text/plain": [
       "                                                                                                     Hypothesis  \\\n",
       "8                                                       Запустить акцию, дающую скидку на товар в день рождения   \n",
       "0            Добавить два новых канала привлечения трафика, что позволит привлекать на 30% больше пользователей   \n",
       "7              Добавить форму подписки на все основные страницы, чтобы собрать базу клиентов для email-рассылок   \n",
       "6          Показать на главной странице баннеры с актуальными акциями и распродажами, чтобы увеличить конверсию   \n",
       "2  Добавить блоки рекомендаций товаров на сайт интернет магазина, чтобы повысить конверсию и средний чек заказа   \n",
       "1                                     Запустить собственную службу доставки, что сократит срок доставки заказов   \n",
       "5                      Добавить страницу отзывов клиентов о магазине, что позволит увеличить количество заказов   \n",
       "3           Изменить структура категорий, что увеличит конверсию, т.к. пользователи быстрее найдут нужный товар   \n",
       "4                              Изменить цвет фона главной страницы, чтобы увеличить вовлеченность пользователей   \n",
       "\n",
       "     ICE  \n",
       "8  16.20  \n",
       "0  13.33  \n",
       "7  11.20  \n",
       "6   8.00  \n",
       "2   7.00  \n",
       "1   2.00  \n",
       "5   1.33  \n",
       "3   1.12  \n",
       "4   1.00  "
      ]
     },
     "execution_count": 6,
     "metadata": {},
     "output_type": "execute_result"
    }
   ],
   "source": [
    "hypothesis['ICE'] = (hypothesis['Impact'] * hypothesis['Confidence'] / hypothesis['Efforts']).round(2)\n",
    "hypothesis[['Hypothesis', 'ICE']].sort_values(by='ICE', ascending=False)"
   ]
  },
  {
   "cell_type": "markdown",
   "id": "193491b8",
   "metadata": {},
   "source": [
    "**Вывод:**\n",
    "- Приоритизация гипотез:\n",
    "    - **8**: Запустить акцию, дающую скидку на товар в день рождения\n",
    "    - **0**: Добавить два новых канала привлечения трафика, что позволит привлекать на 30% больше пользователей\n",
    "    - **7**: Добавить форму подписки на все основные страницы, чтобы собрать базу клиентов для email-рассылок"
   ]
  },
  {
   "cell_type": "code",
   "execution_count": 7,
   "id": "664df27f",
   "metadata": {},
   "outputs": [
    {
     "data": {
      "text/html": [
       "<div>\n",
       "<style scoped>\n",
       "    .dataframe tbody tr th:only-of-type {\n",
       "        vertical-align: middle;\n",
       "    }\n",
       "\n",
       "    .dataframe tbody tr th {\n",
       "        vertical-align: top;\n",
       "    }\n",
       "\n",
       "    .dataframe thead th {\n",
       "        text-align: right;\n",
       "    }\n",
       "</style>\n",
       "<table border=\"1\" class=\"dataframe\">\n",
       "  <thead>\n",
       "    <tr style=\"text-align: right;\">\n",
       "      <th></th>\n",
       "      <th>Hypothesis</th>\n",
       "      <th>RICE</th>\n",
       "    </tr>\n",
       "  </thead>\n",
       "  <tbody>\n",
       "    <tr>\n",
       "      <th>7</th>\n",
       "      <td>Добавить форму подписки на все основные страницы, чтобы собрать базу клиентов для email-рассылок</td>\n",
       "      <td>112.0</td>\n",
       "    </tr>\n",
       "    <tr>\n",
       "      <th>2</th>\n",
       "      <td>Добавить блоки рекомендаций товаров на сайт интернет магазина, чтобы повысить конверсию и средний чек заказа</td>\n",
       "      <td>56.0</td>\n",
       "    </tr>\n",
       "    <tr>\n",
       "      <th>0</th>\n",
       "      <td>Добавить два новых канала привлечения трафика, что позволит привлекать на 30% больше пользователей</td>\n",
       "      <td>40.0</td>\n",
       "    </tr>\n",
       "    <tr>\n",
       "      <th>6</th>\n",
       "      <td>Показать на главной странице баннеры с актуальными акциями и распродажами, чтобы увеличить конверсию</td>\n",
       "      <td>40.0</td>\n",
       "    </tr>\n",
       "    <tr>\n",
       "      <th>8</th>\n",
       "      <td>Запустить акцию, дающую скидку на товар в день рождения</td>\n",
       "      <td>16.2</td>\n",
       "    </tr>\n",
       "    <tr>\n",
       "      <th>3</th>\n",
       "      <td>Изменить структура категорий, что увеличит конверсию, т.к. пользователи быстрее найдут нужный товар</td>\n",
       "      <td>9.0</td>\n",
       "    </tr>\n",
       "    <tr>\n",
       "      <th>1</th>\n",
       "      <td>Запустить собственную службу доставки, что сократит срок доставки заказов</td>\n",
       "      <td>4.0</td>\n",
       "    </tr>\n",
       "    <tr>\n",
       "      <th>5</th>\n",
       "      <td>Добавить страницу отзывов клиентов о магазине, что позволит увеличить количество заказов</td>\n",
       "      <td>4.0</td>\n",
       "    </tr>\n",
       "    <tr>\n",
       "      <th>4</th>\n",
       "      <td>Изменить цвет фона главной страницы, чтобы увеличить вовлеченность пользователей</td>\n",
       "      <td>3.0</td>\n",
       "    </tr>\n",
       "  </tbody>\n",
       "</table>\n",
       "</div>"
      ],
      "text/plain": [
       "                                                                                                     Hypothesis  \\\n",
       "7              Добавить форму подписки на все основные страницы, чтобы собрать базу клиентов для email-рассылок   \n",
       "2  Добавить блоки рекомендаций товаров на сайт интернет магазина, чтобы повысить конверсию и средний чек заказа   \n",
       "0            Добавить два новых канала привлечения трафика, что позволит привлекать на 30% больше пользователей   \n",
       "6          Показать на главной странице баннеры с актуальными акциями и распродажами, чтобы увеличить конверсию   \n",
       "8                                                       Запустить акцию, дающую скидку на товар в день рождения   \n",
       "3           Изменить структура категорий, что увеличит конверсию, т.к. пользователи быстрее найдут нужный товар   \n",
       "1                                     Запустить собственную службу доставки, что сократит срок доставки заказов   \n",
       "5                      Добавить страницу отзывов клиентов о магазине, что позволит увеличить количество заказов   \n",
       "4                              Изменить цвет фона главной страницы, чтобы увеличить вовлеченность пользователей   \n",
       "\n",
       "    RICE  \n",
       "7  112.0  \n",
       "2   56.0  \n",
       "0   40.0  \n",
       "6   40.0  \n",
       "8   16.2  \n",
       "3    9.0  \n",
       "1    4.0  \n",
       "5    4.0  \n",
       "4    3.0  "
      ]
     },
     "execution_count": 7,
     "metadata": {},
     "output_type": "execute_result"
    }
   ],
   "source": [
    "hypothesis['RICE'] = (hypothesis['Reach'] * hypothesis['Impact'] * hypothesis['Confidence'] / hypothesis['Efforts']).round(2)\n",
    "hypothesis[['Hypothesis', 'RICE']].sort_values(by='RICE', ascending=False)"
   ]
  },
  {
   "cell_type": "markdown",
   "id": "b386b2d7",
   "metadata": {},
   "source": [
    "**Вывод:**\n",
    "- Приоритизация гипотез (после округления):\n",
    "    - **7**: Добавить форму подписки на все основные страницы, чтобы собрать базу клиентов для email-рассылок\n",
    "    - **2**: Добавить блоки рекомендаций товаров на сайт интернет магазина, чтобы повысить конверсию и средний чек заказа\n",
    "    - **0**: Добавить два новых канала привлечения трафика, что позволит привлекать на 30% больше пользователей\n",
    "    - **6**: Показать на главной странице баннеры с актуальными акциями и распродажами, чтобы увеличить конверсию"
   ]
  },
  {
   "cell_type": "markdown",
   "id": "f2d9a42c",
   "metadata": {},
   "source": [
    "### Выводы\n",
    "\n",
    "- При использовании фреймворка `ICE` для приоритизации гипотез лидерами стали гипотезы **8, 0, 7**. \n",
    "- При использовании фреймворка `RICE` для приоритизации гипотез лидерами стали гипотезы **7, 2, 0, 6**.\n",
    "- Гипотезы **0,7** перекликаются в использованных фреймфорках.\n",
    "- Но сами наборы гипотез различаются: это связано с тем, что `ICE` не учитывает охват пользователей в отличие от `RICE`.\n",
    "- При наличии возможности лучше использовать `RICE` в связи с тем, что охват пользователей важная метрика. Потому что она влияет на приоритизацию гипотез."
   ]
  },
  {
   "cell_type": "markdown",
   "id": "b9f22bc4",
   "metadata": {},
   "source": [
    "## Часть 2. Анализ A/B-теста."
   ]
  },
  {
   "cell_type": "markdown",
   "id": "b71104de",
   "metadata": {},
   "source": [
    "### Задачи\n",
    "\n",
    "При проведении A/B-теста мы получили результаты, которые описаны в файлах `orders.csv` и `visitors.csv`.\n",
    "\n",
    "**Проанализируйте A/B-тест**:\n",
    "\n",
    "1. Постройте график кумулятивной выручки по группам. Сделайте выводы и предположения.\n",
    "2. Постройте график кумулятивного среднего чека по группам. Сделайте выводы и предположения.\n",
    "3. Постройте график относительного изменения кумулятивного среднего чека группы B к группе A. Сделайте выводы и предположения.\n",
    "4. Постройте график кумулятивной конверсии по группам. Сделайте выводы и предположения.\n",
    "5. Постройте график относительного изменения кумулятивной конверсии группы B к группе A. Сделайте выводы и предположения.\n",
    "6. Постройте точечный график количества заказов по пользователям. Сделайте выводы и предположения.\n",
    "7. Посчитайте 95-й и 99-й перцентили количества заказов на пользователя. Выберите границу для определения аномальных пользователей.\n",
    "8. Постройте точечный график стоимостей заказов. Сделайте выводы и предположения.\n",
    "9. Посчитайте 95-й и 99-й перцентили стоимости заказов. Выберите границу для определения аномальных заказов.\n",
    "10. Посчитайте статистическую значимость различий в конверсии между группами по «сырым» данным. Сделайте выводы и предположения.\n",
    "11. Посчитайте статистическую значимость различий в среднем чеке заказа между группами по «сырым» данным. Сделайте выводы и предположения.\n",
    "12. Посчитайте статистическую значимость различий в конверсии между группами по «очищенным» данным. Сделайте выводы и предположения.\n",
    "13. Посчитайте статистическую значимость различий в среднем чеке заказа между группами по «очищенным» данным. Сделайте выводы и предположения.\n",
    "14. Примите решение по результатам теста и объясните его. Варианты решений: 1. Остановить тест, зафиксировать победу одной из групп. 2. Остановить тест, зафиксировать отсутствие различий между группами. 3. Продолжить тест."
   ]
  },
  {
   "cell_type": "markdown",
   "id": "043eab4f",
   "metadata": {},
   "source": [
    "#### Изучение данных"
   ]
  },
  {
   "cell_type": "code",
   "execution_count": 8,
   "id": "af0617b3",
   "metadata": {},
   "outputs": [
    {
     "name": "stdout",
     "output_type": "stream",
     "text": [
      "Количество дубликатов: 0\n"
     ]
    }
   ],
   "source": [
    "print('Количество дубликатов:', orders.duplicated().sum())"
   ]
  },
  {
   "cell_type": "code",
   "execution_count": 9,
   "id": "e9ff7feb",
   "metadata": {},
   "outputs": [
    {
     "name": "stdout",
     "output_type": "stream",
     "text": [
      "<class 'pandas.core.frame.DataFrame'>\n",
      "RangeIndex: 1197 entries, 0 to 1196\n",
      "Data columns (total 5 columns):\n",
      " #   Column         Non-Null Count  Dtype         \n",
      "---  ------         --------------  -----         \n",
      " 0   transactionId  1197 non-null   int64         \n",
      " 1   visitorId      1197 non-null   int64         \n",
      " 2   date           1197 non-null   datetime64[ns]\n",
      " 3   revenue        1197 non-null   int64         \n",
      " 4   group          1197 non-null   object        \n",
      "dtypes: datetime64[ns](1), int64(3), object(1)\n",
      "memory usage: 46.9+ KB\n"
     ]
    }
   ],
   "source": [
    "orders.info()"
   ]
  },
  {
   "cell_type": "code",
   "execution_count": 10,
   "id": "6557b025",
   "metadata": {},
   "outputs": [
    {
     "name": "stdout",
     "output_type": "stream",
     "text": [
      "<class 'pandas.core.frame.DataFrame'>\n",
      "Int64Index: 1108 entries, 0 to 1196\n",
      "Data columns (total 5 columns):\n",
      " #   Column         Non-Null Count  Dtype         \n",
      "---  ------         --------------  -----         \n",
      " 0   transactionId  1108 non-null   int64         \n",
      " 1   visitorId      1108 non-null   int64         \n",
      " 2   date           1108 non-null   datetime64[ns]\n",
      " 3   revenue        1108 non-null   int64         \n",
      " 4   group          1108 non-null   object        \n",
      "dtypes: datetime64[ns](1), int64(3), object(1)\n",
      "memory usage: 51.9+ KB\n"
     ]
    }
   ],
   "source": [
    "# проверяем не переместились ли пользователи из одной группы в другую. \n",
    "# Удаляем индексы visitorId. Смотрим группу А и В, очищаем\n",
    "duplicates = orders.loc[orders['group'] == 'A', 'visitorId'].isin(orders.loc[orders['group'] == 'B', 'visitorId'])\n",
    "orders = orders.drop(duplicates[duplicates].index)\n",
    "orders.info()\n",
    "# получилось 89 человек"
   ]
  },
  {
   "cell_type": "markdown",
   "id": "94122360",
   "metadata": {},
   "source": [
    "**Выод**\n",
    "\n",
    "- Наличие пользователей попавших в обе группы сильно влияет на результаты теста. Мы проверили, у нас их нет.\n",
    "- Сравнивать количество групп A/B теста не нужно, потому что у нас заданные величины, изменение может повлиять на результаты."
   ]
  },
  {
   "cell_type": "markdown",
   "id": "af4c3a8e",
   "metadata": {},
   "source": [
    "#### Визуализация графика кумулятивной выручки по группам. "
   ]
  },
  {
   "cell_type": "code",
   "execution_count": 11,
   "id": "37199b17",
   "metadata": {},
   "outputs": [
    {
     "data": {
      "text/html": [
       "<div>\n",
       "<style scoped>\n",
       "    .dataframe tbody tr th:only-of-type {\n",
       "        vertical-align: middle;\n",
       "    }\n",
       "\n",
       "    .dataframe tbody tr th {\n",
       "        vertical-align: top;\n",
       "    }\n",
       "\n",
       "    .dataframe thead th {\n",
       "        text-align: right;\n",
       "    }\n",
       "</style>\n",
       "<table border=\"1\" class=\"dataframe\">\n",
       "  <thead>\n",
       "    <tr style=\"text-align: right;\">\n",
       "      <th></th>\n",
       "      <th>date</th>\n",
       "      <th>group</th>\n",
       "      <th>transactionId</th>\n",
       "      <th>visitorId</th>\n",
       "      <th>revenue</th>\n",
       "    </tr>\n",
       "  </thead>\n",
       "  <tbody>\n",
       "    <tr>\n",
       "      <th>55</th>\n",
       "      <td>2019-08-01</td>\n",
       "      <td>A</td>\n",
       "      <td>23</td>\n",
       "      <td>19</td>\n",
       "      <td>142779</td>\n",
       "    </tr>\n",
       "    <tr>\n",
       "      <th>66</th>\n",
       "      <td>2019-08-01</td>\n",
       "      <td>B</td>\n",
       "      <td>21</td>\n",
       "      <td>20</td>\n",
       "      <td>101217</td>\n",
       "    </tr>\n",
       "    <tr>\n",
       "      <th>175</th>\n",
       "      <td>2019-08-02</td>\n",
       "      <td>A</td>\n",
       "      <td>42</td>\n",
       "      <td>36</td>\n",
       "      <td>234381</td>\n",
       "    </tr>\n",
       "    <tr>\n",
       "      <th>173</th>\n",
       "      <td>2019-08-02</td>\n",
       "      <td>B</td>\n",
       "      <td>45</td>\n",
       "      <td>43</td>\n",
       "      <td>266748</td>\n",
       "    </tr>\n",
       "    <tr>\n",
       "      <th>291</th>\n",
       "      <td>2019-08-03</td>\n",
       "      <td>A</td>\n",
       "      <td>66</td>\n",
       "      <td>60</td>\n",
       "      <td>346854</td>\n",
       "    </tr>\n",
       "    <tr>\n",
       "      <th>310</th>\n",
       "      <td>2019-08-03</td>\n",
       "      <td>B</td>\n",
       "      <td>61</td>\n",
       "      <td>59</td>\n",
       "      <td>380996</td>\n",
       "    </tr>\n",
       "  </tbody>\n",
       "</table>\n",
       "</div>"
      ],
      "text/plain": [
       "          date group  transactionId  visitorId  revenue\n",
       "55  2019-08-01     A             23         19   142779\n",
       "66  2019-08-01     B             21         20   101217\n",
       "175 2019-08-02     A             42         36   234381\n",
       "173 2019-08-02     B             45         43   266748\n",
       "291 2019-08-03     A             66         60   346854\n",
       "310 2019-08-03     B             61         59   380996"
      ]
     },
     "execution_count": 11,
     "metadata": {},
     "output_type": "execute_result"
    }
   ],
   "source": [
    "groups = orders[['date','group']].drop_duplicates() \n",
    "\n",
    "orders_com = groups.apply(lambda x: orders[np.logical_and(orders['date'] <= x['date'], \\\n",
    "                                                          orders['group'] == x['group'])] \\\n",
    "                          .agg({'date': 'max',\n",
    "                                'group': 'max',\n",
    "                                'transactionId': 'nunique',\n",
    "                                'visitorId': 'nunique',\n",
    "                                'revenue': 'sum'}), axis=1).sort_values(by=['date', 'group'])\n",
    "\n",
    "orders_com.head(6)"
   ]
  },
  {
   "cell_type": "code",
   "execution_count": 12,
   "id": "223f167c",
   "metadata": {},
   "outputs": [
    {
     "data": {
      "text/html": [
       "<div>\n",
       "<style scoped>\n",
       "    .dataframe tbody tr th:only-of-type {\n",
       "        vertical-align: middle;\n",
       "    }\n",
       "\n",
       "    .dataframe tbody tr th {\n",
       "        vertical-align: top;\n",
       "    }\n",
       "\n",
       "    .dataframe thead th {\n",
       "        text-align: right;\n",
       "    }\n",
       "</style>\n",
       "<table border=\"1\" class=\"dataframe\">\n",
       "  <thead>\n",
       "    <tr style=\"text-align: right;\">\n",
       "      <th></th>\n",
       "      <th>date</th>\n",
       "      <th>group</th>\n",
       "      <th>visitors</th>\n",
       "    </tr>\n",
       "  </thead>\n",
       "  <tbody>\n",
       "    <tr>\n",
       "      <th>55</th>\n",
       "      <td>2019-08-01</td>\n",
       "      <td>A</td>\n",
       "      <td>719</td>\n",
       "    </tr>\n",
       "    <tr>\n",
       "      <th>66</th>\n",
       "      <td>2019-08-01</td>\n",
       "      <td>B</td>\n",
       "      <td>713</td>\n",
       "    </tr>\n",
       "    <tr>\n",
       "      <th>175</th>\n",
       "      <td>2019-08-02</td>\n",
       "      <td>A</td>\n",
       "      <td>1338</td>\n",
       "    </tr>\n",
       "    <tr>\n",
       "      <th>173</th>\n",
       "      <td>2019-08-02</td>\n",
       "      <td>B</td>\n",
       "      <td>1294</td>\n",
       "    </tr>\n",
       "    <tr>\n",
       "      <th>291</th>\n",
       "      <td>2019-08-03</td>\n",
       "      <td>A</td>\n",
       "      <td>1845</td>\n",
       "    </tr>\n",
       "    <tr>\n",
       "      <th>310</th>\n",
       "      <td>2019-08-03</td>\n",
       "      <td>B</td>\n",
       "      <td>1803</td>\n",
       "    </tr>\n",
       "  </tbody>\n",
       "</table>\n",
       "</div>"
      ],
      "text/plain": [
       "          date group  visitors\n",
       "55  2019-08-01     A       719\n",
       "66  2019-08-01     B       713\n",
       "175 2019-08-02     A      1338\n",
       "173 2019-08-02     B      1294\n",
       "291 2019-08-03     A      1845\n",
       "310 2019-08-03     B      1803"
      ]
     },
     "execution_count": 12,
     "metadata": {},
     "output_type": "execute_result"
    }
   ],
   "source": [
    "visitors_com = groups.apply(lambda x: visitors[np.logical_and(visitors['date'] <= x['date'], \\\n",
    "                                                              visitors['group'] == x['group'])] \\\n",
    "                            .agg({'date': 'max',\n",
    "                                  'group': 'max',\n",
    "                                  'visitors': 'sum'}), axis=1).sort_values(by=['date', 'group'])\n",
    "\n",
    "visitors_com.head(6)"
   ]
  },
  {
   "cell_type": "code",
   "execution_count": 13,
   "id": "737a7959",
   "metadata": {},
   "outputs": [
    {
     "data": {
      "text/html": [
       "<div>\n",
       "<style scoped>\n",
       "    .dataframe tbody tr th:only-of-type {\n",
       "        vertical-align: middle;\n",
       "    }\n",
       "\n",
       "    .dataframe tbody tr th {\n",
       "        vertical-align: top;\n",
       "    }\n",
       "\n",
       "    .dataframe thead th {\n",
       "        text-align: right;\n",
       "    }\n",
       "</style>\n",
       "<table border=\"1\" class=\"dataframe\">\n",
       "  <thead>\n",
       "    <tr style=\"text-align: right;\">\n",
       "      <th></th>\n",
       "      <th>date</th>\n",
       "      <th>group</th>\n",
       "      <th>transactionId</th>\n",
       "      <th>visitorId</th>\n",
       "      <th>revenue</th>\n",
       "      <th>visitors</th>\n",
       "    </tr>\n",
       "  </thead>\n",
       "  <tbody>\n",
       "    <tr>\n",
       "      <th>0</th>\n",
       "      <td>2019-08-01</td>\n",
       "      <td>A</td>\n",
       "      <td>23</td>\n",
       "      <td>19</td>\n",
       "      <td>142779</td>\n",
       "      <td>719</td>\n",
       "    </tr>\n",
       "    <tr>\n",
       "      <th>1</th>\n",
       "      <td>2019-08-01</td>\n",
       "      <td>B</td>\n",
       "      <td>21</td>\n",
       "      <td>20</td>\n",
       "      <td>101217</td>\n",
       "      <td>713</td>\n",
       "    </tr>\n",
       "    <tr>\n",
       "      <th>2</th>\n",
       "      <td>2019-08-02</td>\n",
       "      <td>A</td>\n",
       "      <td>42</td>\n",
       "      <td>36</td>\n",
       "      <td>234381</td>\n",
       "      <td>1338</td>\n",
       "    </tr>\n",
       "    <tr>\n",
       "      <th>3</th>\n",
       "      <td>2019-08-02</td>\n",
       "      <td>B</td>\n",
       "      <td>45</td>\n",
       "      <td>43</td>\n",
       "      <td>266748</td>\n",
       "      <td>1294</td>\n",
       "    </tr>\n",
       "    <tr>\n",
       "      <th>4</th>\n",
       "      <td>2019-08-03</td>\n",
       "      <td>A</td>\n",
       "      <td>66</td>\n",
       "      <td>60</td>\n",
       "      <td>346854</td>\n",
       "      <td>1845</td>\n",
       "    </tr>\n",
       "    <tr>\n",
       "      <th>5</th>\n",
       "      <td>2019-08-03</td>\n",
       "      <td>B</td>\n",
       "      <td>61</td>\n",
       "      <td>59</td>\n",
       "      <td>380996</td>\n",
       "      <td>1803</td>\n",
       "    </tr>\n",
       "  </tbody>\n",
       "</table>\n",
       "</div>"
      ],
      "text/plain": [
       "        date group  transactionId  visitorId  revenue  visitors\n",
       "0 2019-08-01     A             23         19   142779       719\n",
       "1 2019-08-01     B             21         20   101217       713\n",
       "2 2019-08-02     A             42         36   234381      1338\n",
       "3 2019-08-02     B             45         43   266748      1294\n",
       "4 2019-08-03     A             66         60   346854      1845\n",
       "5 2019-08-03     B             61         59   380996      1803"
      ]
     },
     "execution_count": 13,
     "metadata": {},
     "output_type": "execute_result"
    }
   ],
   "source": [
    "# объединяем\n",
    "\n",
    "cumulative_data = orders_com.merge(\n",
    "    visitors_com, \n",
    "    left_on=['date', 'group'], \n",
    "    right_on=['date', 'group']\n",
    ")\n",
    "\n",
    "cumulative_data.head(6)"
   ]
  },
  {
   "cell_type": "code",
   "execution_count": 14,
   "id": "bfdba042",
   "metadata": {},
   "outputs": [],
   "source": [
    "cumulative_data = orders_com.merge(\n",
    "    visitors_com, \n",
    "    left_on=['date', 'group'], \n",
    "    right_on=['date', 'group']\n",
    ")\n",
    "\n",
    "cumulative_data.columns = [\n",
    "    'date',\n",
    "    'group',\n",
    "    'orders',\n",
    "    'paying_visitors',\n",
    "    'revenue',\n",
    "    'visitors'\n",
    "]"
   ]
  },
  {
   "cell_type": "code",
   "execution_count": 15,
   "id": "c1a22ed1",
   "metadata": {},
   "outputs": [
    {
     "data": {
      "image/png": "[encoded data removed]",
      "text/plain": [
       "<Figure size 504x252 with 1 Axes>"
      ]
     },
     "metadata": {
      "needs_background": "light"
     },
     "output_type": "display_data"
    }
   ],
   "source": [
    "# конвертеры, которые позволяют использовать типы pandas в matplotlib  \n",
    "register_matplotlib_converters()\n",
    "# датафрейм с кумулятивным количеством заказов и кумулятивной выручкой по дням в группе А\n",
    "cumulativeRevenueA = cumulative_data[cumulative_data['group']=='A'][['date','revenue','visitors']]\n",
    "\n",
    "# датафрейм с кумулятивным количеством заказов и кумулятивной выручкой по дням в группе B\n",
    "cumulativeRevenueB = cumulative_data[cumulative_data['group']=='B'][['date','revenue', 'visitors']]\n",
    "\n",
    "plt.figure(figsize=(7, 3.5)) # размер\n",
    "# Строим график выручки группы А\n",
    "plt.plot(cumulativeRevenueA['date'], cumulativeRevenueA['revenue'], label='A')\n",
    "\n",
    "# Строим график выручки группы B\n",
    "plt.plot(cumulativeRevenueB['date'], cumulativeRevenueB['revenue'], label='B')\n",
    "\n",
    "plt.legend()\n",
    "plt.xticks(rotation = 90) # поворот надписей оси Х на 90 градусов\n",
    "plt.grid(True) # вывод сетки\n",
    "# доработка\n",
    "plt.ylabel(\"Выручка\")\n",
    "plt.title(\"Кумулятивная выручка \");"
   ]
  },
  {
   "cell_type": "markdown",
   "id": "a9c33813",
   "metadata": {},
   "source": [
    "**Вывод**:\n",
    "- Выручка равномерно увеличивается в течение всего теста в обеих группах. Хороший знак.\n",
    "- Однако график выручки группы B резко скачет с 18 августа. Это может сигнализировать о всплесках числа заказов, либо о появлении очень дорогих заказов в выборке."
   ]
  },
  {
   "cell_type": "markdown",
   "id": "0e458a58",
   "metadata": {},
   "source": [
    "#### Визуализация графика кумулятивного среднего чека по группам."
   ]
  },
  {
   "cell_type": "code",
   "execution_count": 16,
   "id": "d6462121",
   "metadata": {},
   "outputs": [
    {
     "data": {
      "image/png": "[encoded data removed]",
      "text/plain": [
       "<Figure size 432x288 with 1 Axes>"
      ]
     },
     "metadata": {
      "needs_background": "light"
     },
     "output_type": "display_data"
    }
   ],
   "source": [
    "#средний чек cumulativeRevenueA['revenue']/cumulativeRevenueA['значение']\n",
    "plt.plot(cumulativeRevenueA['date'], cumulativeRevenueA['revenue']/cumulativeRevenueA['visitors'], label='A')\n",
    "plt.plot(cumulativeRevenueB['date'], cumulativeRevenueB['revenue']/cumulativeRevenueB['visitors'], label='B')\n",
    "plt.legend()\n",
    "plt.xticks(rotation = 90) # поворот надписей оси Х на 90 градусов\n",
    "plt.grid(True) # вывод сетки\n",
    "# доработка\n",
    "plt.ylabel(\"Выручка\")\n",
    "plt.title(\"Кумулятивный средний чек \");"
   ]
  },
  {
   "cell_type": "markdown",
   "id": "d76d23ce",
   "metadata": {},
   "source": [
    "**Вывод**:\n",
    "- На графиках заметны колебания средних чеков обеих групп. Средний чек группы A стабилизируется после 15 августа.\n",
    "- На графике виден резкий скачок среднего чека группы B 18 августа. Это может сигнализировать о появлении очень дорогих заказов в выборке.\n",
    "- Принимать решение по этой метрике рано. Требуется дополнительный анализ выбросов, которые так сильно искажают результаты."
   ]
  },
  {
   "cell_type": "markdown",
   "id": "94f11404",
   "metadata": {},
   "source": [
    "#### Визуализация графика относительного изменения кумулятивного среднего чека группы B к группе A."
   ]
  },
  {
   "cell_type": "code",
   "execution_count": 17,
   "id": "1c418d5f",
   "metadata": {},
   "outputs": [
    {
     "data": {
      "image/png": "[encoded data removed]",
      "text/plain": [
       "<Figure size 432x288 with 1 Axes>"
      ]
     },
     "metadata": {
      "needs_background": "light"
     },
     "output_type": "display_data"
    }
   ],
   "source": [
    "mergedCumulativeRevenue = cumulativeRevenueA.merge(cumulativeRevenueB, left_on='date', right_on='date', how='left', suffixes=['A', 'B'])\n",
    "# cтроим отношение средних чеков\n",
    "plt.plot(mergedCumulativeRevenue['date'], (mergedCumulativeRevenue['revenueB']/mergedCumulativeRevenue['visitorsB'])/(mergedCumulativeRevenue['revenueA']/mergedCumulativeRevenue['visitorsA'])-1)\n",
    "\n",
    "# добавляем ось X\n",
    "plt.axhline(y=0, color='black', linestyle='--')\n",
    "plt.xticks(rotation = 90) # поворот надписей оси Х на 90 градусов\n",
    "plt.grid(True) # вывод сетки\n",
    "# доработка\n",
    "plt.ylabel(\"Выручка\")\n",
    "plt.title(\"Относительное изменение кумулятивного среднего чека группы B к группе A.\");"
   ]
  },
  {
   "cell_type": "markdown",
   "id": "ddda7091",
   "metadata": {},
   "source": [
    "**Вывод**:\n",
    "- Результаты теста значительно и резко менялись в несколько дат. Видимо, именно тогда были совершены аномальные заказы.\n",
    "- Это уже третий \"звоночек\" о том, чтобы мы детально поработали с аномалиями"
   ]
  },
  {
   "cell_type": "markdown",
   "id": "25e8cd90",
   "metadata": {},
   "source": [
    "#### Визуализация графика кумулятивного среднего количества заказов на посетителя по группам. "
   ]
  },
  {
   "cell_type": "code",
   "execution_count": 18,
   "id": "4a9ec66a",
   "metadata": {},
   "outputs": [
    {
     "data": {
      "image/png": "[encoded data removed]",
      "text/plain": [
       "<Figure size 432x288 with 1 Axes>"
      ]
     },
     "metadata": {
      "needs_background": "light"
     },
     "output_type": "display_data"
    }
   ],
   "source": [
    "# считаем кумулятивную конверсию\n",
    "cumulative_data['conversion'] = cumulative_data['orders']/cumulative_data['visitors']\n",
    "\n",
    "# отделяем данные по группе A\n",
    "cumulative_dataA = cumulative_data[cumulative_data['group']=='A']\n",
    "\n",
    "# отделяем данные по группе B\n",
    "cumulative_dataB = cumulative_data[cumulative_data['group']=='B']\n",
    "\n",
    "# строим графики\n",
    "plt.plot(cumulative_dataA['date'], cumulative_dataA['conversion'], label='A')\n",
    "plt.plot(cumulative_dataB['date'], cumulative_dataB['conversion'], label='B')\n",
    "plt.legend()\n",
    "plt.xticks(rotation = 90) # поворот надписей оси Х на 90 градусов\n",
    "plt.grid(True) # вывод сетки\n",
    "plt.ylabel(\"Среднее количество заказов\")\n",
    "plt.title(\"Кумулятивное среднее количество заказов\")\n",
    "# задаем масштаб осей\n",
    "plt.axis([\"2019-08-01\", '2019-08-31', 0.02, 0.045]);"
   ]
  },
  {
   "cell_type": "markdown",
   "id": "89c87d21",
   "metadata": {},
   "source": [
    "**Вывод**:\n",
    "- В самом начале теста группа A имела бОльшую конверсию в сравнении с группой B, однако постепенно конверсия группы B выровнялась и вышла на плато, превышая значения группы A."
   ]
  },
  {
   "cell_type": "markdown",
   "id": "65a61fe9",
   "metadata": {},
   "source": [
    "#### Визуализация графика относительного изменения кумулятивной конверсии группы B к группе A."
   ]
  },
  {
   "cell_type": "code",
   "execution_count": 19,
   "id": "e7d7f9dd",
   "metadata": {},
   "outputs": [
    {
     "data": {
      "image/png": "[encoded data removed]",
      "text/plain": [
       "<Figure size 432x288 with 1 Axes>"
      ]
     },
     "metadata": {
      "needs_background": "light"
     },
     "output_type": "display_data"
    }
   ],
   "source": [
    "mergedCumulativeConversions = cumulative_dataA[['date','conversion']].merge(cumulative_dataB[['date','conversion']],\n",
    "                                                                            left_on='date', right_on='date', how='left',\n",
    "                                                                            suffixes=['A', 'B'])\n",
    "\n",
    "plt.plot(mergedCumulativeConversions['date'],\n",
    "         mergedCumulativeConversions['conversionB']/mergedCumulativeConversions['conversionA']-1,\n",
    "         label=\"Относительный прирост конверсии группы B относительно группы A\")\n",
    "plt.legend()\n",
    "plt.xticks(rotation = 90) # поворот надписей оси Х на 90 градусов\n",
    "plt.grid(True) # вывод сетки\n",
    "\n",
    "plt.axhline(y=0, color='black', linestyle='--')\n",
    "plt.axhline(y=-0.2, color='grey', linestyle='--')\n",
    "plt.axis([\"2019-08-01\", '2019-08-31', -0.5, 0.5]);"
   ]
  },
  {
   "cell_type": "markdown",
   "id": "f376de20",
   "metadata": {},
   "source": [
    "**Вывод**:\n",
    "- Группа B уверенно лидирует на протяжении практически всего периода: линия идёт наверх после 5 августа, а затем фиксируется около прироста примерно в 32%.\n",
    "- А еще в последней трети эксперимента наблюдается стабилизация результатов"
   ]
  },
  {
   "cell_type": "markdown",
   "id": "4c3aa981",
   "metadata": {},
   "source": [
    "#### Визуализация точечного графика количества заказов по пользователям. "
   ]
  },
  {
   "cell_type": "code",
   "execution_count": 20,
   "id": "dd732760",
   "metadata": {},
   "outputs": [],
   "source": [
    "orders_by_users = (\n",
    "    orders.groupby('visitorId', as_index=False) \\\n",
    "    .agg({'transactionId': 'nunique'})\n",
    ")\n",
    "orders_by_users.columns = ['userId', 'orders']"
   ]
  },
  {
   "cell_type": "code",
   "execution_count": 21,
   "id": "2655ad98",
   "metadata": {},
   "outputs": [
    {
     "data": {
      "image/png": "[encoded data removed]",
      "text/plain": [
       "<Figure size 432x288 with 1 Axes>"
      ]
     },
     "metadata": {
      "needs_background": "light"
     },
     "output_type": "display_data"
    }
   ],
   "source": [
    "x_values = pd.Series(range(0,len(orders_by_users)))\n",
    "plt.scatter(x_values, orders_by_users['orders'])\n",
    "plt.xlabel('Количество пользователей')\n",
    "plt.ylabel('Количество заказов')\n",
    "plt.title('Точечный график количества заказов по пользователям')\n",
    "\n",
    "plt.show();"
   ]
  },
  {
   "cell_type": "markdown",
   "id": "f991f2a2",
   "metadata": {},
   "source": [
    "**Вывод**:\n",
    "- Большинство пользователей сделали 1 заказ. Пользователей, сделавших более 2 заказов, достаточно мало."
   ]
  },
  {
   "cell_type": "markdown",
   "id": "d1927dda",
   "metadata": {},
   "source": [
    "#### Подсчет 95-й и 99-й перцентилей количества заказов на пользователя. "
   ]
  },
  {
   "cell_type": "code",
   "execution_count": 22,
   "id": "3593caf8",
   "metadata": {},
   "outputs": [
    {
     "name": "stdout",
     "output_type": "stream",
     "text": [
      "95-й выборочный перцентиль количества заказов по пользователям: 1.5\n",
      "99-й выборочный перцентиль количества заказов по пользователям: 3.0\n"
     ]
    }
   ],
   "source": [
    "print('95-й выборочный перцентиль количества заказов по пользователям:',\n",
    "      (np.percentile(orders_by_users['orders'], 95)))\n",
    "print('99-й выборочный перцентиль количества заказов по пользователям:',\n",
    "      (np.percentile(orders_by_users['orders'], 99)))"
   ]
  },
  {
   "cell_type": "markdown",
   "id": "ec366ae3",
   "metadata": {},
   "source": [
    "**Вывод**:\n",
    "- Не более, чем 5% пользователей совершили более 1 заказа. \n",
    "- Не более, чем 1% пользователей совершили более 3 заказов.\n",
    "- Пользователей, совершивших более 2 заказов, можно рассматривать как аномальные значения и среднее количество заказов рассматривать как один."
   ]
  },
  {
   "cell_type": "markdown",
   "id": "c6b5b0a2",
   "metadata": {},
   "source": [
    "#### Визуализация точечного графика стоимостей заказов. "
   ]
  },
  {
   "cell_type": "code",
   "execution_count": 23,
   "id": "d41b0fb6",
   "metadata": {},
   "outputs": [
    {
     "data": {
      "image/png": "[encoded data removed]",
      "text/plain": [
       "<Figure size 432x288 with 1 Axes>"
      ]
     },
     "metadata": {
      "needs_background": "light"
     },
     "output_type": "display_data"
    }
   ],
   "source": [
    "x_values = pd.Series(range(0,len(orders)))\n",
    "plt.scatter(x_values, orders['revenue'])\n",
    "plt.xlabel('Количество заказов')\n",
    "plt.ylabel('Стоимость')\n",
    "plt.title('Точечный график стоимостей заказов')\n",
    "\n",
    "plt.show();"
   ]
  },
  {
   "cell_type": "markdown",
   "id": "e2ade479",
   "metadata": {},
   "source": [
    "**Вывод**:\n",
    "- По такому графику сложно сделать выводы и предположения. Можно только сказать, что есть выбросы, или аномально большие заказы. Лучше посмотреть 95-й и 99-й перцентили стоимости заказов."
   ]
  },
  {
   "cell_type": "markdown",
   "id": "88104f0b",
   "metadata": {},
   "source": [
    "#### Посчет 95-й и 99-й перцентилей стоимости заказов."
   ]
  },
  {
   "cell_type": "code",
   "execution_count": 24,
   "id": "d04ffa82",
   "metadata": {},
   "outputs": [
    {
     "name": "stdout",
     "output_type": "stream",
     "text": [
      "95-й выборочный перцентиль стоимости заказов по пользователям: 28033.75\n",
      "99-й выборочный перцентиль стоимости заказов по пользователям: 56457.78\n"
     ]
    }
   ],
   "source": [
    "print('95-й выборочный перцентиль стоимости заказов по пользователям:',\n",
    "      (np.percentile(orders['revenue'], 95)).round(2))\n",
    "print('99-й выборочный перцентиль стоимости заказов по пользователям:',\n",
    "      (np.percentile(orders['revenue'], 99)).round(2))"
   ]
  },
  {
   "cell_type": "markdown",
   "id": "e62e9821",
   "metadata": {},
   "source": [
    "**Вывод**:\n",
    "- Не более, чем 5% заказов дороже 28 тыс. руб. \n",
    "- Не более, чем 1% заказов дороже 56 тыс. руб.\n",
    "- Заказы свыше 28033.75 (или 28034 руб. если округлить) можно рассматривать как аномальные значения. Потому что больше всего пользователей сделали +- один заказ."
   ]
  },
  {
   "cell_type": "markdown",
   "id": "00acda93",
   "metadata": {},
   "source": [
    "**В шагах мы**:\n",
    "- Оценили результаты A/B-теста визуально и выяснили, что в данных, скорее всего, есть выбросы;\n",
    "- Увидели выбросы и нашли границу для их определения.\n",
    "\n",
    "- Посчитаем статистическую значимость различий в среднем числе заказов на пользователя и среднем чеке между группами по «сырым» данным — без удаления аномальных пользователей.\n",
    "- Сформулируем гипотезы. Нулевая: различий  в конверсии между между группами нет. Альтернативная: различия в конверсии между группами есть."
   ]
  },
  {
   "cell_type": "markdown",
   "id": "56744916",
   "metadata": {},
   "source": [
    "#### Посчет статистической значимости различий в среднем количестве заказов на посетителя между группами по \"сырым\" данным"
   ]
  },
  {
   "cell_type": "markdown",
   "id": "f559a5e2",
   "metadata": {},
   "source": [
    "**Введем нулевую и альтернативные гипотезы**:\n",
    "\n",
    "$\\begin{equation*}\n",
    " \\begin{cases}\n",
    "   H_0 :\\text{Различий в количестве заказов между группами нет.}\\\\\n",
    "   H_1 :\\text{Различия в количестве заказов между группами есть.}\n",
    " \\end{cases}\n",
    "\\end{equation*}$\n",
    "\n",
    "Уровень значимости: $\\alpha = 0.05$\n",
    "\n",
    "Рассчитаем p-value. Если p-value будет меньше выбранного уровня значимости ($\\alpha = 0.05$), то будут основания отвергнуть нулевую гипотезу в пользу альтернативной. Иначе сделаем вывод, что данные не позволили нам отвергнуть нулевую гипотезу."
   ]
  },
  {
   "cell_type": "code",
   "execution_count": 25,
   "id": "002d60da",
   "metadata": {},
   "outputs": [],
   "source": [
    "# Сбор данных\n",
    "\n",
    "# Группа А\n",
    "daily_visitors_a = visitors.query('group == \"A\"')[['date', 'visitors']]\n",
    "\n",
    "# С помощью lambda-функции итерируемся по каждой строке датафрейма и сравниваем: \n",
    "# если дата или даты (если прошли больше n итераций) (daily_visitors_a['date']) \n",
    "# меньше даты в текущей ячейке, в которой мы находимся на конкретном шаге итерации (x['date']), \n",
    "# то суммируй ее/их значения столбца visitors со значением visitors в текущей ячейке ('visitors': 'sum'), \n",
    "# а дату оставляй максимальную из 2-х/3-х/n ('date': 'max'). \n",
    "# Таким образом, получаем кумулятивную сумму для каждой даты, учитывая предыдущие (меньшие) даты.\n",
    "\n",
    "cum_visitors_a = daily_visitors_a.apply(\n",
    "    lambda x: daily_visitors_a[daily_visitors_a['date'] <= x['date']]\n",
    "    .agg({'date': 'max',\n",
    "          'visitors': 'sum'}), axis=1)\n",
    "\n",
    "cum_visitors_a.columns = [\n",
    "    'date', \n",
    "    'num_visitors_a'\n",
    "]\n",
    "\n",
    "daily_orders_a = (\n",
    "    orders\n",
    "    .query('group == \"A\"')[['date', 'transactionId', 'visitorId', 'revenue']]\n",
    "    .groupby('date', as_index=False)\n",
    "    .agg({'transactionId': 'nunique',\n",
    "          'revenue': 'sum'})\n",
    ")\n",
    "\n",
    "\n",
    "cum_orders_a = daily_orders_a.apply(\n",
    "    lambda x: daily_orders_a[daily_orders_a['date'] <= x['date']]\n",
    "    .agg({'date': 'max', \n",
    "          'transactionId': 'sum', \n",
    "          'revenue': 'sum'}), axis=1).sort_values(by=['date'])\n",
    "\n",
    "cum_orders_a.columns = [\n",
    "    'date',\n",
    "    'num_orders_a',\n",
    "    'revenue_a',\n",
    "]"
   ]
  },
  {
   "cell_type": "code",
   "execution_count": 26,
   "id": "0f7ad9fe",
   "metadata": {},
   "outputs": [],
   "source": [
    "# Группа B\n",
    "daily_visitors_b = visitors.query('group == \"B\"')[['date', 'visitors']]\n",
    "\n",
    "cum_visitors_b = daily_visitors_b.apply(\n",
    "    lambda x: daily_visitors_b[daily_visitors_b['date'] <= x['date']] # \n",
    "    .agg({'date': 'max',\n",
    "          'visitors': 'sum'}), axis=1)\n",
    "\n",
    "cum_visitors_b.columns = [\n",
    "    'date', \n",
    "    'num_visitors_b'\n",
    "]\n",
    "\n",
    "daily_orders_b = (\n",
    "    orders\n",
    "    .query('group == \"B\"')[['date', 'transactionId', 'visitorId', 'revenue']]\n",
    "    .groupby('date', as_index=False)\n",
    "    .agg({'transactionId': 'nunique',\n",
    "          'revenue': 'sum'})\n",
    ")\n",
    "\n",
    "\n",
    "cum_orders_b = daily_orders_b.apply(\n",
    "    lambda x: daily_orders_b[daily_orders_b['date'] <= x['date']]\n",
    "    .agg({'date': 'max', \n",
    "          'transactionId': 'sum', \n",
    "          'revenue': 'sum'}), axis=1).sort_values(by=['date'])\n",
    "\n",
    "cum_orders_b.columns = [\n",
    "    'date',\n",
    "    'num_orders_b',\n",
    "    'revenue_b',\n",
    "]"
   ]
  },
  {
   "cell_type": "code",
   "execution_count": 27,
   "id": "d406684d",
   "metadata": {},
   "outputs": [],
   "source": [
    "# Объединение\n",
    "\n",
    "final_data = (\n",
    "    daily_orders_a.merge(\n",
    "        daily_orders_b, left_on='date', right_on='date', how='left'\n",
    "    )\n",
    "    .merge(cum_orders_a, left_on='date', right_on='date', how='left')\n",
    "    .merge(cum_orders_b, left_on='date', right_on='date', how='left')\n",
    "    .merge(daily_visitors_a, left_on='date', right_on='date', how='left')\n",
    "    .merge(daily_visitors_b, left_on='date', right_on='date', how='left')\n",
    "    .merge(cum_visitors_a, left_on='date', right_on='date', how='left')\n",
    "    .merge(cum_visitors_b, left_on='date', right_on='date', how='left')\n",
    ")"
   ]
  },
  {
   "cell_type": "code",
   "execution_count": 28,
   "id": "cc055096",
   "metadata": {},
   "outputs": [],
   "source": [
    "# Переменные для определения статистической значимости в количестве заказов  между группами по «сырым» данным\n",
    "\n",
    "# Группа А\n",
    "orders_by_users_a = (\n",
    "    orders.query('group == \"A\"')\n",
    "    .groupby('visitorId', as_index=False)\n",
    "    .agg({'transactionId': 'nunique'})\n",
    ")\n",
    "\n",
    "orders_by_users_a.columns = ['visitorId', 'num_orders']\n",
    "\n",
    "sample_a = pd.concat(\n",
    "    [\n",
    "        orders_by_users_a['num_orders'],\n",
    "        pd.Series(\n",
    "            0,\n",
    "            index=np.arange(\n",
    "                final_data['visitors_x'].sum() - len(orders_by_users_a['num_orders'])\n",
    "            ),\n",
    "            name='orders',\n",
    "        ),\n",
    "    ],\n",
    "    axis=0,\n",
    ")"
   ]
  },
  {
   "cell_type": "code",
   "execution_count": 29,
   "id": "d9d218e8",
   "metadata": {},
   "outputs": [],
   "source": [
    "# Группа В\n",
    "\n",
    "orders_by_users_b = (\n",
    "    orders.query('group == \"B\"')\n",
    "    .groupby('visitorId', as_index=False)\n",
    "    .agg({'transactionId': 'nunique'})\n",
    ")\n",
    "\n",
    "orders_by_users_b.columns = ['visitorId', 'num_orders']\n",
    "\n",
    "sample_b = pd.concat(\n",
    "    [\n",
    "        orders_by_users_b['num_orders'],\n",
    "        pd.Series(\n",
    "            0,\n",
    "            index=np.arange(\n",
    "                final_data['visitors_y'].sum() - len(orders_by_users_b['num_orders'])\n",
    "            ),\n",
    "            name='orders',\n",
    "        ),\n",
    "    ],\n",
    "    axis=0,\n",
    ")"
   ]
  },
  {
   "cell_type": "code",
   "execution_count": 30,
   "id": "bd9759f3",
   "metadata": {},
   "outputs": [
    {
     "name": "stdout",
     "output_type": "stream",
     "text": [
      "p-value: 0.000017\n",
      "Имеются основания отвергнуть нулевую гипотезу\n",
      "Относительный прирост количества заказов группы В к количеству заказов группы А в процентах: 35.45 %\n"
     ]
    }
   ],
   "source": [
    "alpha = .05\n",
    "\n",
    "results = stats.mannwhitneyu(sample_a, sample_b, alternative='two-sided')[1]\n",
    "\n",
    "print('p-value:', '{0:.6f}'.format(results))\n",
    "\n",
    "if (results < alpha):\n",
    "    print('Имеются основания отвергнуть нулевую гипотезу')\n",
    "else:\n",
    "    print('Недостаточно оснований, чтобы отвергунть нулевую гипотезу')\n",
    "    \n",
    "print('Относительный прирост количества заказов группы В к количеству заказов группы А в процентах:',\n",
    "      \"{0:.2f}\".format(((final_data['transactionId_y'].sum() / final_data['visitors_y'].sum()) /\n",
    "      (final_data['transactionId_x'].sum() / final_data['visitors_x'].sum()) - 1) * 100), '%')\n",
    "# в количестве заказов"
   ]
  },
  {
   "cell_type": "markdown",
   "id": "de355559",
   "metadata": {},
   "source": [
    "**Вывод**:\n",
    "- На доступных данных на 5% уровне значимости имеются основания отвергнуть нулевую гипотезу в пользу альтернативной (`p-value` меньше уровня значимости (0.05)).\n",
    "- Обнаружены статистически значимые различия между группами. Есть существенное различие в в количестве заказов пользователей групп A и B.\n",
    "- Относительный прирост количества заказов группы В к количеству заказов группы А в процентах: 35.45 %"
   ]
  },
  {
   "cell_type": "markdown",
   "id": "56e7bd15",
   "metadata": {},
   "source": [
    "### Посчет статистической значимости различий в среднем чеке заказа между группами по «сырым» данным."
   ]
  },
  {
   "cell_type": "markdown",
   "id": "893ce77d",
   "metadata": {},
   "source": [
    "**Введем нулевую и альтернативные гипотезы**:\n",
    "\n",
    "$\\begin{equation*}\n",
    " \\begin{cases}\n",
    "   H_0 :\\text{Различий в среднем чеке между группами нет}\\\\\n",
    "   H_1 :\\text{Различия в среднем чеке между группами есть.}\n",
    " \\end{cases}\n",
    "\\end{equation*}$\n",
    "\n",
    "Уровень значимости: $\\alpha = 0.05$\n",
    "\n",
    "Рассчитаем p-value. Если p-value будет меньше выбранного уровня значимости ($\\alpha = 0.05$), то будут основания отвергнуть нулевую гипотезу в пользу альтернативной. Иначе сделаем вывод, что данные не позволили нам отвергнуть нулевую гипотезу."
   ]
  },
  {
   "cell_type": "code",
   "execution_count": 31,
   "id": "c6b7304b",
   "metadata": {},
   "outputs": [
    {
     "name": "stdout",
     "output_type": "stream",
     "text": [
      "p-value: 0.764664\n",
      "Недостаточно оснований, чтобы отвергунть нулевую гипотезу\n",
      "Относительный прирост среднего чека группы B: 28.39 %\n"
     ]
    }
   ],
   "source": [
    "results = stats.mannwhitneyu(\n",
    "    orders.query('group == \"A\"')['revenue'],\n",
    "    orders.query('group == \"B\"')['revenue'],\n",
    "    alternative='two-sided')[1]\n",
    "\n",
    "print('p-value:', '{0:.6f}'.format(results))\n",
    "\n",
    "if (results < alpha):\n",
    "    print('Имеются основания отвергнуть нулевую гипотезу')\n",
    "else:\n",
    "    print('Недостаточно оснований, чтобы отвергунть нулевую гипотезу')\n",
    "    \n",
    "print('Относительный прирост среднего чека группы B:',\n",
    "      '{0:.2f}'.format((orders.query('group == \"B\"')['revenue'].mean() /\n",
    "                        orders.query('group == \"A\"')['revenue'].mean() - 1) * 100), '%')"
   ]
  },
  {
   "cell_type": "markdown",
   "id": "4a030880",
   "metadata": {},
   "source": [
    "**Вывод**:\n",
    "- На доступных данных на 5% уровне значимости недостаточно оснований, чтобы отвергнуть нулевую гипотезу в пользу альтернативной (`p-value` сильно больше уровня значимости (0.05)).\n",
    "- Относительный прирост среднего чека группы В к среднему чеку группы А равен 28.39 %, что не является статистически значимым. На данное значение могли повлиять выбросы, которые мы наблюдали на графиках ранее."
   ]
  },
  {
   "cell_type": "markdown",
   "id": "8204ee1c",
   "metadata": {},
   "source": [
    "### Подсчет статистической значимости различий в конверсии между группами по «очищенным» данным. "
   ]
  },
  {
   "cell_type": "code",
   "execution_count": 32,
   "id": "a6b925f1",
   "metadata": {},
   "outputs": [],
   "source": [
    "# Выделение аномальных записей\n",
    "\n",
    "abnormal_orders = pd.concat(\n",
    "    [\n",
    "        orders_by_users_a.query('num_orders > 2')['visitorId'],\n",
    "        orders_by_users_b.query('num_orders > 2')['visitorId']\n",
    "    ],\n",
    "    axis=0,\n",
    ")\n",
    "\n",
    "abnormal_revenue = orders[orders['revenue'] > 28034]['visitorId']\n",
    "\n",
    "abnormal_data = (\n",
    "    pd.concat([abnormal_orders, abnormal_revenue], axis=0)\n",
    "    .drop_duplicates()\n",
    "    .sort_values()\n",
    ")"
   ]
  },
  {
   "cell_type": "code",
   "execution_count": 33,
   "id": "62f65f9a",
   "metadata": {},
   "outputs": [],
   "source": [
    "sample_a_normal = pd.concat(\n",
    "    [\n",
    "        orders_by_users_a[\n",
    "            np.logical_not(orders_by_users_a['visitorId'].isin(abnormal_data))\n",
    "        ]['num_orders'],\n",
    "        pd.Series(\n",
    "            0,\n",
    "            index=np.arange(\n",
    "                final_data['visitors_x'].sum() - len(orders_by_users_a['num_orders'])\n",
    "            ),\n",
    "            name='orders',\n",
    "        ),\n",
    "    ],\n",
    "    axis=0,\n",
    ")\n",
    "\n",
    "sample_b_normal = pd.concat(\n",
    "    [\n",
    "        orders_by_users_b[\n",
    "            np.logical_not(orders_by_users_b['visitorId'].isin(abnormal_data))\n",
    "        ]['num_orders'],\n",
    "        pd.Series(\n",
    "            0,\n",
    "            index=np.arange(\n",
    "                final_data['visitors_y'].sum() - len(orders_by_users_b['num_orders'])\n",
    "            ),\n",
    "            name='orders',\n",
    "        ),\n",
    "    ],\n",
    "    axis=0,\n",
    ")"
   ]
  },
  {
   "cell_type": "code",
   "execution_count": 34,
   "id": "e731b921",
   "metadata": {},
   "outputs": [
    {
     "name": "stdout",
     "output_type": "stream",
     "text": [
      "p-value: 0.000060\n",
      "Имеются основания отвергнуть нулевую гипотезу\n",
      "Относительный прирост конверсии группы В к конверсии группы А: 30.70 %\n"
     ]
    }
   ],
   "source": [
    "results = stats.mannwhitneyu(\n",
    "    sample_a_normal, \n",
    "    sample_b_normal, \n",
    "    alternative='two-sided')[1]\n",
    "\n",
    "print('p-value:', '{0:.6f}'.format(results))\n",
    "\n",
    "if (results < alpha):\n",
    "    print('Имеются основания отвергнуть нулевую гипотезу')\n",
    "else:\n",
    "    print('Недостаточно оснований, чтобы отвергунть нулевую гипотезу')\n",
    "    \n",
    "print('Относительный прирост конверсии группы В к конверсии группы А:',\n",
    "      '{0:.2f}'.format((sample_b_normal.mean() / sample_a_normal.mean() - 1) * 100), '%')"
   ]
  },
  {
   "cell_type": "markdown",
   "id": "dca273bb",
   "metadata": {},
   "source": [
    "**Вывод**:\n",
    "- На доступных данных на 5% уровне значимости имеются основания отвергнуть нулевую гипотезу в пользу альтернативной (`p-value` меньше уровня значимости (0.05)).\n",
    "- Обнаружены статистически значимые различия между группами. Видно существенное различие в конверсиях пользователей групп A и B.\n",
    "- Относительный прирост конверсии группы В к конверсии группы А равен 30.7%. Значение близко к полученному на \"сырых\" данных. Значит, конверсия не сильно зависела от аномалий и выбросов. По значению относительного прироста конверсии мы видим, что группа В показала себя лучше."
   ]
  },
  {
   "cell_type": "markdown",
   "id": "b10f8529",
   "metadata": {},
   "source": [
    "#### Подсчет статистической значимости различий в среднем чеке заказа между группами по «очищенным» данным. "
   ]
  },
  {
   "cell_type": "code",
   "execution_count": 35,
   "id": "a6b44446",
   "metadata": {},
   "outputs": [
    {
     "name": "stdout",
     "output_type": "stream",
     "text": [
      "p-value: 0.934248\n",
      "Недостаточно оснований, чтобы отвергунть нулевую гипотезу\n",
      "Относительный прирост среднего чека группы B к среднему чеку группы А: -0.23 %\n"
     ]
    }
   ],
   "source": [
    "results = stats.mannwhitneyu(\n",
    "    orders[\n",
    "        np.logical_and(\n",
    "            orders['group'] == 'A',\n",
    "            np.logical_not(orders['visitorId'].isin(abnormal_data))\n",
    "        )\n",
    "    ]['revenue'],\n",
    "    orders[\n",
    "        np.logical_and(\n",
    "            orders['group'] == 'B',\n",
    "            np.logical_not(orders['visitorId'].isin(abnormal_data))\n",
    "        )\n",
    "    ]['revenue'])[1]\n",
    "\n",
    "print('p-value:', '{0:.6f}'.format(results))\n",
    "\n",
    "if (results < alpha):\n",
    "    print('Имеются основания отвергнуть нулевую гипотезу')\n",
    "else:\n",
    "    print('Недостаточно оснований, чтобы отвергунть нулевую гипотезу')\n",
    "    \n",
    "print(\n",
    "    'Относительный прирост среднего чека группы B к среднему чеку группы А:',\n",
    "    \"{0:.2f}\".format((\n",
    "        orders[\n",
    "            np.logical_and(\n",
    "                orders['group'] == 'B',\n",
    "                np.logical_not(orders['visitorId'].isin(abnormal_data)),\n",
    "            )\n",
    "        ]['revenue'].mean()\n",
    "        / orders[\n",
    "            np.logical_and(\n",
    "                orders['group'] == 'A',\n",
    "                np.logical_not(orders['visitorId'].isin(abnormal_data)),\n",
    "            )\n",
    "        ]['revenue'].mean() - 1) * 100), '%') "
   ]
  },
  {
   "cell_type": "markdown",
   "id": "7db8715b",
   "metadata": {},
   "source": [
    "**Вывод**:\n",
    "- На доступных данных на 5% уровне значимости недостаточно оснований, чтобы отвергнуть нулевую гипотезу в пользу альтернативной (`p-value` сильно больше уровня значимости (0.05)).\n",
    "- Относительный прирост среднего чека группы B к среднему чеку группы А меньше 0. Такое большое различие со значением относительного прироста среднего чека на сырых данных связано с наличием аномалий / выбросов. \n",
    "- В тоже время, между группами статистически значимых различий не обнаружено."
   ]
  },
  {
   "cell_type": "markdown",
   "id": "cc6c64c9",
   "metadata": {},
   "source": [
    "#### По результатам теста из вариантов решений  \n",
    "1. Остановить тест, зафиксировать победу одной из групп. \n",
    "2. Остановить тест, зафиксировать отсутствие различий между группами. \n",
    "3. Продолжить тест. \n",
    "**Был сделан вывод:**"
   ]
  },
  {
   "cell_type": "markdown",
   "id": "bd58a287",
   "metadata": {},
   "source": [
    "- Есть статистически значимые различия по конверсии между группами и по «сырым» данным, и по данным после фильтрации аномалий;\n",
    "- Нет статистически значимого различия по среднему чеку между группами ни по «сырым», ни по данным после фильтрации аномалий;\n",
    "- График различия конверсии между группами сообщает, что результаты группы B лучше группы A, значение относительного прироста конверсии группы В к конверсии группы А и график относительного изменения кумулятивной конверсии группы B к группе A подтверждают данную информацию. Наблюдается тенденция к росту.\n",
    "- График кумулятивного среднего чека по группам указал на аномальные значения, после очистки от выбросов средний чек группы B не отличается от среднего чека группы A.\n",
    "\n",
    "**Исходя из обнаруженных фактов, тест следует остановить и зафиксировать победу одной из групп. Средний чек не изменился, но возросла конверсия, следовательно, увеличилось количество покупателей.**"
   ]
  }
 ],
 "metadata": {
  "ExecuteTimeLog": [
   {
    "duration": 1508,
    "start_time": "2023-03-18T14:56:47.312Z"
   },
   {
    "duration": 84,
    "start_time": "2023-03-18T14:56:48.822Z"
   },
   {
    "duration": 15,
    "start_time": "2023-03-18T14:56:48.908Z"
   },
   {
    "duration": 10,
    "start_time": "2023-03-18T14:56:48.926Z"
   },
   {
    "duration": 10,
    "start_time": "2023-03-18T14:56:48.939Z"
   },
   {
    "duration": 16,
    "start_time": "2023-03-18T14:56:48.951Z"
   },
   {
    "duration": 17,
    "start_time": "2023-03-18T14:56:48.969Z"
   },
   {
    "duration": 7,
    "start_time": "2023-03-18T14:56:48.988Z"
   },
   {
    "duration": 46,
    "start_time": "2023-03-18T14:56:48.997Z"
   },
   {
    "duration": 16,
    "start_time": "2023-03-18T14:56:49.046Z"
   },
   {
    "duration": 191,
    "start_time": "2023-03-18T14:56:49.065Z"
   },
   {
    "duration": 170,
    "start_time": "2023-03-18T14:56:49.258Z"
   },
   {
    "duration": 21,
    "start_time": "2023-03-18T14:56:49.430Z"
   },
   {
    "duration": 7,
    "start_time": "2023-03-18T14:56:49.453Z"
   },
   {
    "duration": 4,
    "start_time": "2023-03-18T14:56:49.461Z"
   },
   {
    "duration": 305,
    "start_time": "2023-03-18T14:56:49.466Z"
   },
   {
    "duration": 271,
    "start_time": "2023-03-18T14:56:49.773Z"
   },
   {
    "duration": 362,
    "start_time": "2023-03-18T14:56:50.046Z"
   },
   {
    "duration": 441,
    "start_time": "2023-03-18T14:56:50.410Z"
   },
   {
    "duration": 0,
    "start_time": "2023-03-18T14:56:50.853Z"
   },
   {
    "duration": 0,
    "start_time": "2023-03-18T14:56:50.854Z"
   },
   {
    "duration": 0,
    "start_time": "2023-03-18T14:56:50.855Z"
   },
   {
    "duration": 0,
    "start_time": "2023-03-18T14:56:50.857Z"
   },
   {
    "duration": 0,
    "start_time": "2023-03-18T14:56:50.857Z"
   },
   {
    "duration": 0,
    "start_time": "2023-03-18T14:56:50.858Z"
   },
   {
    "duration": 0,
    "start_time": "2023-03-18T14:56:50.859Z"
   },
   {
    "duration": 0,
    "start_time": "2023-03-18T14:56:50.861Z"
   },
   {
    "duration": 0,
    "start_time": "2023-03-18T14:56:50.862Z"
   },
   {
    "duration": 0,
    "start_time": "2023-03-18T14:56:50.863Z"
   },
   {
    "duration": 0,
    "start_time": "2023-03-18T14:56:50.864Z"
   },
   {
    "duration": 0,
    "start_time": "2023-03-18T14:56:50.865Z"
   },
   {
    "duration": 0,
    "start_time": "2023-03-18T14:56:50.866Z"
   },
   {
    "duration": 0,
    "start_time": "2023-03-18T14:56:50.867Z"
   },
   {
    "duration": 0,
    "start_time": "2023-03-18T14:56:50.868Z"
   },
   {
    "duration": 0,
    "start_time": "2023-03-18T14:56:50.870Z"
   },
   {
    "duration": 0,
    "start_time": "2023-03-18T14:56:50.871Z"
   },
   {
    "duration": 410,
    "start_time": "2023-03-18T14:57:55.801Z"
   },
   {
    "duration": 7,
    "start_time": "2023-03-18T14:57:56.397Z"
   },
   {
    "duration": 111,
    "start_time": "2023-03-18T14:57:56.563Z"
   },
   {
    "duration": 5,
    "start_time": "2023-03-18T14:57:57.004Z"
   },
   {
    "duration": 199,
    "start_time": "2023-03-18T14:57:57.451Z"
   },
   {
    "duration": 6,
    "start_time": "2023-03-18T14:57:57.904Z"
   },
   {
    "duration": 93,
    "start_time": "2023-03-18T14:57:58.625Z"
   },
   {
    "duration": 112,
    "start_time": "2023-03-18T14:57:58.794Z"
   },
   {
    "duration": 22,
    "start_time": "2023-03-18T14:57:59.208Z"
   },
   {
    "duration": 10,
    "start_time": "2023-03-18T14:57:59.343Z"
   },
   {
    "duration": 11,
    "start_time": "2023-03-18T14:57:59.519Z"
   },
   {
    "duration": 24,
    "start_time": "2023-03-18T14:57:59.701Z"
   },
   {
    "duration": 15,
    "start_time": "2023-03-18T14:58:00.561Z"
   },
   {
    "duration": 11,
    "start_time": "2023-03-18T14:58:01.259Z"
   },
   {
    "duration": 10,
    "start_time": "2023-03-18T14:58:01.547Z"
   },
   {
    "duration": 26,
    "start_time": "2023-03-18T14:58:01.731Z"
   },
   {
    "duration": 15,
    "start_time": "2023-03-18T14:58:02.291Z"
   },
   {
    "duration": 11,
    "start_time": "2023-03-18T14:58:48.194Z"
   },
   {
    "duration": 1506,
    "start_time": "2023-03-18T14:59:47.410Z"
   },
   {
    "duration": 79,
    "start_time": "2023-03-18T14:59:48.918Z"
   },
   {
    "duration": 11,
    "start_time": "2023-03-18T14:59:48.999Z"
   },
   {
    "duration": 8,
    "start_time": "2023-03-18T14:59:49.012Z"
   },
   {
    "duration": 7,
    "start_time": "2023-03-18T14:59:49.022Z"
   },
   {
    "duration": 12,
    "start_time": "2023-03-18T14:59:49.031Z"
   },
   {
    "duration": 11,
    "start_time": "2023-03-18T14:59:49.045Z"
   },
   {
    "duration": 5,
    "start_time": "2023-03-18T14:59:49.058Z"
   },
   {
    "duration": 11,
    "start_time": "2023-03-18T14:59:49.065Z"
   },
   {
    "duration": 13,
    "start_time": "2023-03-18T14:59:49.077Z"
   },
   {
    "duration": 216,
    "start_time": "2023-03-18T14:59:49.092Z"
   },
   {
    "duration": 170,
    "start_time": "2023-03-18T14:59:49.310Z"
   },
   {
    "duration": 11,
    "start_time": "2023-03-18T14:59:49.482Z"
   },
   {
    "duration": 6,
    "start_time": "2023-03-18T14:59:49.496Z"
   },
   {
    "duration": 13,
    "start_time": "2023-03-18T14:59:49.503Z"
   },
   {
    "duration": 312,
    "start_time": "2023-03-18T14:59:49.518Z"
   },
   {
    "duration": 273,
    "start_time": "2023-03-18T14:59:49.832Z"
   },
   {
    "duration": 386,
    "start_time": "2023-03-18T14:59:50.107Z"
   },
   {
    "duration": 413,
    "start_time": "2023-03-18T14:59:50.494Z"
   },
   {
    "duration": 0,
    "start_time": "2023-03-18T14:59:50.909Z"
   },
   {
    "duration": 0,
    "start_time": "2023-03-18T14:59:50.910Z"
   },
   {
    "duration": 0,
    "start_time": "2023-03-18T14:59:50.911Z"
   },
   {
    "duration": 0,
    "start_time": "2023-03-18T14:59:50.912Z"
   },
   {
    "duration": 0,
    "start_time": "2023-03-18T14:59:50.913Z"
   },
   {
    "duration": 0,
    "start_time": "2023-03-18T14:59:50.914Z"
   },
   {
    "duration": 0,
    "start_time": "2023-03-18T14:59:50.915Z"
   },
   {
    "duration": 0,
    "start_time": "2023-03-18T14:59:50.916Z"
   },
   {
    "duration": 0,
    "start_time": "2023-03-18T14:59:50.917Z"
   },
   {
    "duration": 0,
    "start_time": "2023-03-18T14:59:50.918Z"
   },
   {
    "duration": 0,
    "start_time": "2023-03-18T14:59:50.919Z"
   },
   {
    "duration": 0,
    "start_time": "2023-03-18T14:59:50.920Z"
   },
   {
    "duration": 0,
    "start_time": "2023-03-18T14:59:50.921Z"
   },
   {
    "duration": 0,
    "start_time": "2023-03-18T14:59:50.922Z"
   },
   {
    "duration": 0,
    "start_time": "2023-03-18T14:59:50.923Z"
   },
   {
    "duration": 0,
    "start_time": "2023-03-18T14:59:50.924Z"
   },
   {
    "duration": 0,
    "start_time": "2023-03-18T14:59:50.925Z"
   },
   {
    "duration": 376,
    "start_time": "2023-03-18T15:00:02.661Z"
   },
   {
    "duration": 1594,
    "start_time": "2023-03-18T15:00:08.221Z"
   },
   {
    "duration": 79,
    "start_time": "2023-03-18T15:00:09.818Z"
   },
   {
    "duration": 13,
    "start_time": "2023-03-18T15:00:09.898Z"
   },
   {
    "duration": 9,
    "start_time": "2023-03-18T15:00:09.914Z"
   },
   {
    "duration": 9,
    "start_time": "2023-03-18T15:00:09.925Z"
   },
   {
    "duration": 17,
    "start_time": "2023-03-18T15:00:09.936Z"
   },
   {
    "duration": 15,
    "start_time": "2023-03-18T15:00:09.954Z"
   },
   {
    "duration": 18,
    "start_time": "2023-03-18T15:00:09.971Z"
   },
   {
    "duration": 15,
    "start_time": "2023-03-18T15:00:09.991Z"
   },
   {
    "duration": 12,
    "start_time": "2023-03-18T15:00:10.010Z"
   },
   {
    "duration": 204,
    "start_time": "2023-03-18T15:00:10.024Z"
   },
   {
    "duration": 127,
    "start_time": "2023-03-18T15:00:10.230Z"
   },
   {
    "duration": 12,
    "start_time": "2023-03-18T15:00:10.359Z"
   },
   {
    "duration": 9,
    "start_time": "2023-03-18T15:00:10.373Z"
   },
   {
    "duration": 6,
    "start_time": "2023-03-18T15:00:10.384Z"
   },
   {
    "duration": 366,
    "start_time": "2023-03-18T15:00:10.391Z"
   },
   {
    "duration": 337,
    "start_time": "2023-03-18T15:00:10.758Z"
   },
   {
    "duration": 475,
    "start_time": "2023-03-18T15:00:11.098Z"
   },
   {
    "duration": 895,
    "start_time": "2023-03-18T15:00:11.574Z"
   },
   {
    "duration": 0,
    "start_time": "2023-03-18T15:00:12.471Z"
   },
   {
    "duration": 0,
    "start_time": "2023-03-18T15:00:12.472Z"
   },
   {
    "duration": 0,
    "start_time": "2023-03-18T15:00:12.473Z"
   },
   {
    "duration": 0,
    "start_time": "2023-03-18T15:00:12.474Z"
   },
   {
    "duration": 0,
    "start_time": "2023-03-18T15:00:12.476Z"
   },
   {
    "duration": 0,
    "start_time": "2023-03-18T15:00:12.477Z"
   },
   {
    "duration": 0,
    "start_time": "2023-03-18T15:00:12.478Z"
   },
   {
    "duration": 0,
    "start_time": "2023-03-18T15:00:12.479Z"
   },
   {
    "duration": 0,
    "start_time": "2023-03-18T15:00:12.481Z"
   },
   {
    "duration": 0,
    "start_time": "2023-03-18T15:00:12.482Z"
   },
   {
    "duration": 0,
    "start_time": "2023-03-18T15:00:12.484Z"
   },
   {
    "duration": 0,
    "start_time": "2023-03-18T15:00:12.541Z"
   },
   {
    "duration": 0,
    "start_time": "2023-03-18T15:00:12.543Z"
   },
   {
    "duration": 0,
    "start_time": "2023-03-18T15:00:12.544Z"
   },
   {
    "duration": 0,
    "start_time": "2023-03-18T15:00:12.546Z"
   },
   {
    "duration": 0,
    "start_time": "2023-03-18T15:00:12.547Z"
   },
   {
    "duration": 0,
    "start_time": "2023-03-18T15:00:12.548Z"
   },
   {
    "duration": 392,
    "start_time": "2023-03-18T15:02:12.262Z"
   },
   {
    "duration": 7,
    "start_time": "2023-03-18T15:02:12.655Z"
   },
   {
    "duration": 111,
    "start_time": "2023-03-18T15:02:12.771Z"
   },
   {
    "duration": 6,
    "start_time": "2023-03-18T15:02:13.242Z"
   },
   {
    "duration": 206,
    "start_time": "2023-03-18T15:02:13.710Z"
   },
   {
    "duration": 7,
    "start_time": "2023-03-18T15:02:14.205Z"
   },
   {
    "duration": 97,
    "start_time": "2023-03-18T15:02:15.009Z"
   },
   {
    "duration": 102,
    "start_time": "2023-03-18T15:02:15.206Z"
   },
   {
    "duration": 28,
    "start_time": "2023-03-18T15:02:15.406Z"
   },
   {
    "duration": 11,
    "start_time": "2023-03-18T15:02:15.535Z"
   },
   {
    "duration": 11,
    "start_time": "2023-03-18T15:02:15.717Z"
   },
   {
    "duration": 27,
    "start_time": "2023-03-18T15:02:15.854Z"
   },
   {
    "duration": 16,
    "start_time": "2023-03-18T15:02:16.632Z"
   },
   {
    "duration": 10,
    "start_time": "2023-03-18T15:02:17.119Z"
   },
   {
    "duration": 8,
    "start_time": "2023-03-18T15:02:17.306Z"
   },
   {
    "duration": 26,
    "start_time": "2023-03-18T15:02:17.438Z"
   },
   {
    "duration": 15,
    "start_time": "2023-03-18T15:02:18.040Z"
   },
   {
    "duration": 949,
    "start_time": "2023-03-18T15:51:32.832Z"
   },
   {
    "duration": 1479,
    "start_time": "2023-03-18T15:51:46.218Z"
   },
   {
    "duration": 365,
    "start_time": "2023-03-18T15:51:47.699Z"
   },
   {
    "duration": 14,
    "start_time": "2023-03-18T15:51:48.066Z"
   },
   {
    "duration": 12,
    "start_time": "2023-03-18T15:51:48.082Z"
   },
   {
    "duration": 15,
    "start_time": "2023-03-18T15:51:48.097Z"
   },
   {
    "duration": 23,
    "start_time": "2023-03-18T15:51:48.114Z"
   },
   {
    "duration": 12,
    "start_time": "2023-03-18T15:51:48.139Z"
   },
   {
    "duration": 8,
    "start_time": "2023-03-18T15:51:48.153Z"
   },
   {
    "duration": 34,
    "start_time": "2023-03-18T15:51:48.162Z"
   },
   {
    "duration": 18,
    "start_time": "2023-03-18T15:51:48.199Z"
   },
   {
    "duration": 226,
    "start_time": "2023-03-18T15:51:48.220Z"
   },
   {
    "duration": 185,
    "start_time": "2023-03-18T15:51:48.447Z"
   },
   {
    "duration": 15,
    "start_time": "2023-03-18T15:51:48.642Z"
   },
   {
    "duration": 7,
    "start_time": "2023-03-18T15:51:48.661Z"
   },
   {
    "duration": 5,
    "start_time": "2023-03-18T15:51:48.669Z"
   },
   {
    "duration": 379,
    "start_time": "2023-03-18T15:51:48.676Z"
   },
   {
    "duration": 330,
    "start_time": "2023-03-18T15:51:49.056Z"
   },
   {
    "duration": 410,
    "start_time": "2023-03-18T15:51:49.388Z"
   },
   {
    "duration": 534,
    "start_time": "2023-03-18T15:51:49.801Z"
   },
   {
    "duration": 0,
    "start_time": "2023-03-18T15:51:50.341Z"
   },
   {
    "duration": 0,
    "start_time": "2023-03-18T15:51:50.342Z"
   },
   {
    "duration": 0,
    "start_time": "2023-03-18T15:51:50.342Z"
   },
   {
    "duration": 0,
    "start_time": "2023-03-18T15:51:50.343Z"
   },
   {
    "duration": 0,
    "start_time": "2023-03-18T15:51:50.344Z"
   },
   {
    "duration": 0,
    "start_time": "2023-03-18T15:51:50.346Z"
   },
   {
    "duration": 0,
    "start_time": "2023-03-18T15:51:50.348Z"
   },
   {
    "duration": 1,
    "start_time": "2023-03-18T15:51:50.349Z"
   },
   {
    "duration": 0,
    "start_time": "2023-03-18T15:51:50.351Z"
   },
   {
    "duration": 0,
    "start_time": "2023-03-18T15:51:50.352Z"
   },
   {
    "duration": 0,
    "start_time": "2023-03-18T15:51:50.354Z"
   },
   {
    "duration": 0,
    "start_time": "2023-03-18T15:51:50.356Z"
   },
   {
    "duration": 0,
    "start_time": "2023-03-18T15:51:50.357Z"
   },
   {
    "duration": 0,
    "start_time": "2023-03-18T15:51:50.359Z"
   },
   {
    "duration": 0,
    "start_time": "2023-03-18T15:51:50.360Z"
   },
   {
    "duration": 0,
    "start_time": "2023-03-18T15:51:50.389Z"
   },
   {
    "duration": 0,
    "start_time": "2023-03-18T15:51:50.391Z"
   },
   {
    "duration": 345,
    "start_time": "2023-03-18T15:52:10.409Z"
   },
   {
    "duration": 324,
    "start_time": "2023-03-18T15:55:28.417Z"
   },
   {
    "duration": 500,
    "start_time": "2023-03-18T15:56:23.607Z"
   },
   {
    "duration": 338,
    "start_time": "2023-03-18T15:58:29.831Z"
   },
   {
    "duration": 328,
    "start_time": "2023-03-18T16:00:10.913Z"
   },
   {
    "duration": 292,
    "start_time": "2023-03-18T16:02:41.266Z"
   },
   {
    "duration": 291,
    "start_time": "2023-03-18T16:02:53.611Z"
   },
   {
    "duration": 1356,
    "start_time": "2023-03-18T16:14:00.307Z"
   },
   {
    "duration": 93,
    "start_time": "2023-03-18T16:14:01.665Z"
   },
   {
    "duration": 12,
    "start_time": "2023-03-18T16:14:01.760Z"
   },
   {
    "duration": 34,
    "start_time": "2023-03-18T16:14:01.774Z"
   },
   {
    "duration": 50,
    "start_time": "2023-03-18T16:14:01.810Z"
   },
   {
    "duration": 54,
    "start_time": "2023-03-18T16:14:01.862Z"
   },
   {
    "duration": 61,
    "start_time": "2023-03-18T16:14:01.918Z"
   },
   {
    "duration": 46,
    "start_time": "2023-03-18T16:14:01.981Z"
   },
   {
    "duration": 32,
    "start_time": "2023-03-18T16:14:02.028Z"
   },
   {
    "duration": 57,
    "start_time": "2023-03-18T16:14:02.062Z"
   },
   {
    "duration": 202,
    "start_time": "2023-03-18T16:14:02.120Z"
   },
   {
    "duration": 133,
    "start_time": "2023-03-18T16:14:02.323Z"
   },
   {
    "duration": 13,
    "start_time": "2023-03-18T16:14:02.458Z"
   },
   {
    "duration": 37,
    "start_time": "2023-03-18T16:14:02.474Z"
   },
   {
    "duration": 24,
    "start_time": "2023-03-18T16:14:02.513Z"
   },
   {
    "duration": 359,
    "start_time": "2023-03-18T16:14:02.539Z"
   },
   {
    "duration": 350,
    "start_time": "2023-03-18T16:14:02.902Z"
   },
   {
    "duration": 498,
    "start_time": "2023-03-18T16:14:03.255Z"
   },
   {
    "duration": 315,
    "start_time": "2023-03-18T16:14:03.754Z"
   },
   {
    "duration": 449,
    "start_time": "2023-03-18T16:14:04.071Z"
   },
   {
    "duration": 8,
    "start_time": "2023-03-18T16:14:04.523Z"
   },
   {
    "duration": 172,
    "start_time": "2023-03-18T16:14:04.533Z"
   },
   {
    "duration": 4,
    "start_time": "2023-03-18T16:14:04.707Z"
   },
   {
    "duration": 224,
    "start_time": "2023-03-18T16:14:04.713Z"
   },
   {
    "duration": 4,
    "start_time": "2023-03-18T16:14:04.939Z"
   },
   {
    "duration": 110,
    "start_time": "2023-03-18T16:14:04.945Z"
   },
   {
    "duration": 149,
    "start_time": "2023-03-18T16:14:05.057Z"
   },
   {
    "duration": 35,
    "start_time": "2023-03-18T16:14:05.210Z"
   },
   {
    "duration": 13,
    "start_time": "2023-03-18T16:14:05.247Z"
   },
   {
    "duration": 39,
    "start_time": "2023-03-18T16:14:05.262Z"
   },
   {
    "duration": 38,
    "start_time": "2023-03-18T16:14:05.306Z"
   },
   {
    "duration": 17,
    "start_time": "2023-03-18T16:14:05.346Z"
   },
   {
    "duration": 32,
    "start_time": "2023-03-18T16:14:05.365Z"
   },
   {
    "duration": 19,
    "start_time": "2023-03-18T16:14:05.403Z"
   },
   {
    "duration": 29,
    "start_time": "2023-03-18T16:14:05.424Z"
   },
   {
    "duration": 44,
    "start_time": "2023-03-18T16:14:05.454Z"
   },
   {
    "duration": 13,
    "start_time": "2023-03-18T16:15:45.414Z"
   },
   {
    "duration": 28,
    "start_time": "2023-03-18T16:16:46.708Z"
   },
   {
    "duration": 1406,
    "start_time": "2023-03-19T10:00:29.541Z"
   },
   {
    "duration": 77,
    "start_time": "2023-03-19T10:00:30.949Z"
   },
   {
    "duration": 13,
    "start_time": "2023-03-19T10:00:31.027Z"
   },
   {
    "duration": 48,
    "start_time": "2023-03-19T10:00:31.042Z"
   },
   {
    "duration": 32,
    "start_time": "2023-03-19T10:00:31.092Z"
   },
   {
    "duration": 58,
    "start_time": "2023-03-19T10:00:31.125Z"
   },
   {
    "duration": 38,
    "start_time": "2023-03-19T10:00:31.184Z"
   },
   {
    "duration": 39,
    "start_time": "2023-03-19T10:00:31.223Z"
   },
   {
    "duration": 18,
    "start_time": "2023-03-19T10:00:31.264Z"
   },
   {
    "duration": 41,
    "start_time": "2023-03-19T10:00:31.289Z"
   },
   {
    "duration": 185,
    "start_time": "2023-03-19T10:00:31.332Z"
   },
   {
    "duration": 125,
    "start_time": "2023-03-19T10:00:31.518Z"
   },
   {
    "duration": 18,
    "start_time": "2023-03-19T10:00:31.645Z"
   },
   {
    "duration": 7,
    "start_time": "2023-03-19T10:00:31.664Z"
   },
   {
    "duration": 5,
    "start_time": "2023-03-19T10:00:31.673Z"
   },
   {
    "duration": 318,
    "start_time": "2023-03-19T10:00:31.680Z"
   },
   {
    "duration": 289,
    "start_time": "2023-03-19T10:00:32.000Z"
   },
   {
    "duration": 390,
    "start_time": "2023-03-19T10:00:32.291Z"
   },
   {
    "duration": 323,
    "start_time": "2023-03-19T10:00:32.683Z"
   },
   {
    "duration": 421,
    "start_time": "2023-03-19T10:00:33.007Z"
   },
   {
    "duration": 6,
    "start_time": "2023-03-19T10:00:33.430Z"
   },
   {
    "duration": 130,
    "start_time": "2023-03-19T10:00:33.438Z"
   },
   {
    "duration": 5,
    "start_time": "2023-03-19T10:00:33.570Z"
   },
   {
    "duration": 200,
    "start_time": "2023-03-19T10:00:33.577Z"
   },
   {
    "duration": 6,
    "start_time": "2023-03-19T10:00:33.778Z"
   },
   {
    "duration": 131,
    "start_time": "2023-03-19T10:00:33.786Z"
   },
   {
    "duration": 124,
    "start_time": "2023-03-19T10:00:33.919Z"
   },
   {
    "duration": 39,
    "start_time": "2023-03-19T10:00:34.047Z"
   },
   {
    "duration": 12,
    "start_time": "2023-03-19T10:00:34.089Z"
   },
   {
    "duration": 13,
    "start_time": "2023-03-19T10:00:34.103Z"
   },
   {
    "duration": 57,
    "start_time": "2023-03-19T10:00:34.118Z"
   },
   {
    "duration": 16,
    "start_time": "2023-03-19T10:00:34.176Z"
   },
   {
    "duration": 10,
    "start_time": "2023-03-19T10:00:34.193Z"
   },
   {
    "duration": 7,
    "start_time": "2023-03-19T10:00:34.205Z"
   },
   {
    "duration": 52,
    "start_time": "2023-03-19T10:00:34.214Z"
   },
   {
    "duration": 14,
    "start_time": "2023-03-19T10:00:34.267Z"
   }
  ],
  "kernelspec": {
   "display_name": "Python 3 (ipykernel)",
   "language": "python",
   "name": "python3"
  },
  "language_info": {
   "codemirror_mode": {
    "name": "ipython",
    "version": 3
   },
   "file_extension": ".py",
   "mimetype": "text/x-python",
   "name": "python",
   "nbconvert_exporter": "python",
   "pygments_lexer": "ipython3",
   "version": "3.9.12"
  },
  "toc": {
   "base_numbering": 1,
   "nav_menu": {},
   "number_sections": true,
   "sideBar": true,
   "skip_h1_title": true,
   "title_cell": "Table of Contents",
   "title_sidebar": "Contents",
   "toc_cell": false,
   "toc_position": {
    "height": "calc(100% - 180px)",
    "left": "10px",
    "top": "150px",
    "width": "268.9375px"
   },
   "toc_section_display": true,
   "toc_window_display": true
  }
 },
 "nbformat": 4,
 "nbformat_minor": 5
}
